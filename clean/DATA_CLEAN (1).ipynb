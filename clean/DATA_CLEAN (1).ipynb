{
 "cells": [
  {
   "cell_type": "markdown",
   "id": "28baacb4-2947-40dc-b86d-c17713df9c47",
   "metadata": {},
   "source": [
    "\n",
    "Oggi voglio condividere con voi una grande risorsa, pensata proprio per chi è principiante e vuole imparare a pulire i dati con MyDataBreakfastClean.\n",
    "\n",
    "Spesso, quando iniziamo a entrare nel mondo dei dati, ci chiediamo:\n",
    "“Come si puliscono davvero i dati, soprattutto usando Python?”\n",
    "\n",
    "Dopo aver imparato un po’ di Excel e le basi di Python, può sembrare complicato capire come fare bene questa fase fondamentale. Io stessa mi sono chiesta come facciano gli esperti di Data Science, Data Analyst e Business Analyst a pulire i dati in modo efficace.\n",
    "\n",
    "La verità è che studiare da soli può essere difficile, ma non impossibile! Per questo ho deciso di affrontare il problema insieme a voi, spiegandovi passo passo le regole di base per pulire i dati con Python.\n",
    "\n",
    "Alla fine di questo percorso, vi darò anche un bonus con le tecniche più usate nel mondo del lavoro, così saprete cosa è davvero importante imparare.\n",
    "\n",
    "Grazie alle informazioni raccolte e alle mie esperienze, sono sicura di essere sulla strada giusta e voglio portarvi con me in questo viaggio."
   ]
  },
  {
   "cell_type": "markdown",
   "id": "16607203-6db3-4907-bd94-bb12e02be1b0",
   "metadata": {},
   "source": [
    "Premessa: Importare e Pulire i Dati — Esempio Pratico\n",
    "Immaginiamo di importare un file CSV con dei dati da analizzare. Spesso, i dati che ci vengono dati non sono perfetti: possono contenere errori, come ad esempio il nome “Luca” associato a “Femmina” o “Giulia” a “Maschio”.\n",
    "\n",
    "Non preoccuparti, è normale! In questo tutorial ci concentreremo proprio su come individuare e correggere questi errori.\n",
    "\n",
    "Per cominciare useremo un piccolo dataset: questo ci aiuterà a capire bene le procedure e i passaggi fondamentali, prima di applicarli su dataset più grandi e complessi.\n",
    "\n",
    "In questo modo, potrai imparare ad analizzare e pulire i dati in modo semplice e efficace, passo dopo passo.\n",
    "\n"
   ]
  },
  {
   "cell_type": "markdown",
   "id": "3a984484-188f-4208-99af-71feaefc7864",
   "metadata": {},
   "source": [
    "## Prima fase: Importare Pandas e caricare i dati"
   ]
  },
  {
   "cell_type": "markdown",
   "id": "f4ae0efe-3116-415d-8cfe-043b26131b37",
   "metadata": {},
   "source": [
    "Per iniziare, dobbiamo importare la libreria pandas, una delle più usate in Python per lavorare con i dati.\n",
    "Solitamente si importa con un nome abbreviato, pd, per scrivere meno codice.\n",
    "Poi carichiamo il nostro file .csv (cioè una tabella di dati) usando il comando read_csv():\n",
    "In questo caso:\n",
    "\n",
    "* df è la variabile che useremo per lavorare con i nostri dati (si chiama DataFrame).\n",
    "\n",
    "* Il percorso tra virgolette è dove si trova il file sul tuo computer.\n",
    "\n"
   ]
  },
  {
   "cell_type": "code",
   "execution_count": 112,
   "id": "6e7b2769-8799-4f8d-986b-9974423e1683",
   "metadata": {},
   "outputs": [
    {
     "name": "stdout",
     "output_type": "stream",
     "text": [
      "          Nome  Età     Paese  Salario   Genere\n",
      "0         Luca   27   Francia  45618.0  Femmina\n",
      "1       Giulia   30    Grecia  67073.0  Maschio\n",
      "2        Marco   59    Italia      NaN  Maschio\n",
      "3         Anna   31    Spagna  30206.0  Maschio\n",
      "4    Francesco   55   Francia  32947.0  Femmina\n",
      "5         Sara   29       NaN  51625.0  Maschio\n",
      "6       Davide   58   Francia  21415.0  Maschio\n",
      "7        Elisa   31   Francia  46709.0  Maschio\n",
      "8       Matteo   37    Spagna  31958.0  Maschio\n",
      "9        Laura   50    Italia  25360.0  Femmina\n",
      "10  Alessandro   22    Italia  69143.0  Maschio\n",
      "11     Martina   50    Spagna  37614.0  Maschio\n",
      "12     Giorgio   43    Spagna  65730.0  Femmina\n",
      "13      Chiara   33    Spagna  68378.0  Maschio\n",
      "14      Simone   22  Germania  29191.0  Femmina\n",
      "15        Anna   31    Spagna  30206.0  Maschio\n"
     ]
    }
   ],
   "source": [
    "\n",
    "import pandas as pd \n",
    "df = pd.read_csv('C:/Users/patri/Downloads/dati_pandas_blog.csv')#Poi carichiamo il nostro file .csv"
   ]
  },
  {
   "cell_type": "code",
   "execution_count": 114,
   "id": "7b6b2094-c38d-47e7-9a23-4dd37200372b",
   "metadata": {},
   "outputs": [
    {
     "name": "stdout",
     "output_type": "stream",
     "text": [
      "          Nome  Età     Paese  Salario   Genere\n",
      "0         Luca   27   Francia  45618.0  Femmina\n",
      "1       Giulia   30    Grecia  67073.0  Maschio\n",
      "2        Marco   59    Italia      NaN  Maschio\n",
      "3         Anna   31    Spagna  30206.0  Maschio\n",
      "4    Francesco   55   Francia  32947.0  Femmina\n",
      "5         Sara   29       NaN  51625.0  Maschio\n",
      "6       Davide   58   Francia  21415.0  Maschio\n",
      "7        Elisa   31   Francia  46709.0  Maschio\n",
      "8       Matteo   37    Spagna  31958.0  Maschio\n",
      "9        Laura   50    Italia  25360.0  Femmina\n",
      "10  Alessandro   22    Italia  69143.0  Maschio\n",
      "11     Martina   50    Spagna  37614.0  Maschio\n",
      "12     Giorgio   43    Spagna  65730.0  Femmina\n",
      "13      Chiara   33    Spagna  68378.0  Maschio\n",
      "14      Simone   22  Germania  29191.0  Femmina\n",
      "15        Anna   31    Spagna  30206.0  Maschio\n"
     ]
    }
   ],
   "source": [
    "#Per vedere i dati che abbiamo caricato, basta scrivere:\n",
    "print(df)"
   ]
  },
  {
   "cell_type": "markdown",
   "id": "5e88e7c7-8bda-4822-9833-1e958fad4043",
   "metadata": {},
   "source": [
    "# 🔍 Seconda fase: Esplorazione dei dati"
   ]
  },
  {
   "cell_type": "markdown",
   "id": "c2a7dd77-c029-48d6-a884-23843ab4cfec",
   "metadata": {},
   "source": [
    "Bene, ora che abbiamo caricato i nostri dati, iniziamo a guardarli con i nostri occhi!\n",
    "Se guardiamo la tabella, possiamo già notare alcune cose:\n",
    "\n",
    "* In alcune celle c’è scritto NaN, che significa valore mancante.\n",
    "\n",
    "* C’è un possibile duplicato: ad esempio, “Anna” con “Spagna” compare due volte.\n",
    "\n",
    "Per fortuna, la tabella è piccola, quindi possiamo analizzarla visivamente. Ma se fosse grande con migliaia di righe? Non potremmo farlo a occhio!\n",
    "Ecco perché è importante esplorare i dati con Python, per:\n",
    "\n",
    "* Trovare errori nascosti\n",
    "\n",
    "* Gestire i valori mancanti\n",
    "\n",
    "* Eliminare duplicati\n",
    "\n",
    "* Preparare i dati per l’analisi\n",
    "\n",
    "In questa fase cominciamo quindi a pulire i dati, passo dopo passo."
   ]
  },
  {
   "cell_type": "markdown",
   "id": "c593ab81-87c0-4b03-83a3-63a07dc42d0c",
   "metadata": {},
   "source": [
    "Bene, ora che abbiamo caricato i nostri dati, iniziamo a guardarli con i nostri occhi!\n",
    "Se guardiamo la tabella, possiamo già notare alcune cose:\n",
    "\n",
    "* In alcune celle c’è scritto NaN, che significa valore mancante.\n",
    "\n",
    "* C’è un possibile duplicato: ad esempio, “Anna” con “Spagna” compare due volte.\n",
    "\n",
    "Per fortuna, la tabella è piccola, quindi possiamo analizzarla visivamente. Ma se fosse grande con migliaia di righe? Non potremmo farlo a occhio!\n",
    "Ecco perché è importante esplorare i dati con Python, per:\n",
    "\n",
    "* Trovare errori nascosti\n",
    "\n",
    "* Gestire i valori mancanti\n",
    "\n",
    "* Eliminare duplicati\n",
    "\n",
    "* Preparare i dati per l’analisi\n",
    "\n",
    "In questa fase cominciamo quindi a pulire i dati, passo dopo passo."
   ]
  },
  {
   "cell_type": "markdown",
   "id": "f4689511-1d9b-4122-a82d-b24b164b6f39",
   "metadata": {},
   "source": [
    "🔍 Esplorazione dei Dati: Visualizzare le Prime Righe\n",
    "Dopo aver caricato i dati, è importante dare un'occhiata alle prime righe per comprendere la struttura del dataset. Pandas offre il metodo head() per questo scopo."
   ]
  },
  {
   "cell_type": "markdown",
   "id": "0a45350f-2ebb-40ca-bf82-1382b6c7fc96",
   "metadata": {},
   "source": [
    "df.head(): Restituisce le prime 5 righe del DataFrame. È utile per una rapida ispezione iniziale."
   ]
  },
  {
   "cell_type": "code",
   "execution_count": 115,
   "id": "10577972-f937-4913-b300-f68e8d3a2fe3",
   "metadata": {},
   "outputs": [
    {
     "data": {
      "text/html": [
       "<div>\n",
       "<style scoped>\n",
       "    .dataframe tbody tr th:only-of-type {\n",
       "        vertical-align: middle;\n",
       "    }\n",
       "\n",
       "    .dataframe tbody tr th {\n",
       "        vertical-align: top;\n",
       "    }\n",
       "\n",
       "    .dataframe thead th {\n",
       "        text-align: right;\n",
       "    }\n",
       "</style>\n",
       "<table border=\"1\" class=\"dataframe\">\n",
       "  <thead>\n",
       "    <tr style=\"text-align: right;\">\n",
       "      <th></th>\n",
       "      <th>Nome</th>\n",
       "      <th>Età</th>\n",
       "      <th>Paese</th>\n",
       "      <th>Salario</th>\n",
       "      <th>Genere</th>\n",
       "    </tr>\n",
       "  </thead>\n",
       "  <tbody>\n",
       "    <tr>\n",
       "      <th>0</th>\n",
       "      <td>Luca</td>\n",
       "      <td>27</td>\n",
       "      <td>Francia</td>\n",
       "      <td>45618.0</td>\n",
       "      <td>Femmina</td>\n",
       "    </tr>\n",
       "    <tr>\n",
       "      <th>1</th>\n",
       "      <td>Giulia</td>\n",
       "      <td>30</td>\n",
       "      <td>Grecia</td>\n",
       "      <td>67073.0</td>\n",
       "      <td>Maschio</td>\n",
       "    </tr>\n",
       "    <tr>\n",
       "      <th>2</th>\n",
       "      <td>Marco</td>\n",
       "      <td>59</td>\n",
       "      <td>Italia</td>\n",
       "      <td>NaN</td>\n",
       "      <td>Maschio</td>\n",
       "    </tr>\n",
       "    <tr>\n",
       "      <th>3</th>\n",
       "      <td>Anna</td>\n",
       "      <td>31</td>\n",
       "      <td>Spagna</td>\n",
       "      <td>30206.0</td>\n",
       "      <td>Maschio</td>\n",
       "    </tr>\n",
       "    <tr>\n",
       "      <th>4</th>\n",
       "      <td>Francesco</td>\n",
       "      <td>55</td>\n",
       "      <td>Francia</td>\n",
       "      <td>32947.0</td>\n",
       "      <td>Femmina</td>\n",
       "    </tr>\n",
       "  </tbody>\n",
       "</table>\n",
       "</div>"
      ],
      "text/plain": [
       "        Nome  Età    Paese  Salario   Genere\n",
       "0       Luca   27  Francia  45618.0  Femmina\n",
       "1     Giulia   30   Grecia  67073.0  Maschio\n",
       "2      Marco   59   Italia      NaN  Maschio\n",
       "3       Anna   31   Spagna  30206.0  Maschio\n",
       "4  Francesco   55  Francia  32947.0  Femmina"
      ]
     },
     "execution_count": 115,
     "metadata": {},
     "output_type": "execute_result"
    }
   ],
   "source": [
    "df.head() # primi 5 "
   ]
  },
  {
   "cell_type": "code",
   "execution_count": 7,
   "id": "3c1d6323-1a7d-429f-855f-b90ca5316017",
   "metadata": {},
   "outputs": [
    {
     "data": {
      "text/html": [
       "<div>\n",
       "<style scoped>\n",
       "    .dataframe tbody tr th:only-of-type {\n",
       "        vertical-align: middle;\n",
       "    }\n",
       "\n",
       "    .dataframe tbody tr th {\n",
       "        vertical-align: top;\n",
       "    }\n",
       "\n",
       "    .dataframe thead th {\n",
       "        text-align: right;\n",
       "    }\n",
       "</style>\n",
       "<table border=\"1\" class=\"dataframe\">\n",
       "  <thead>\n",
       "    <tr style=\"text-align: right;\">\n",
       "      <th></th>\n",
       "      <th>Nome</th>\n",
       "      <th>Età</th>\n",
       "      <th>Paese</th>\n",
       "      <th>Salario</th>\n",
       "      <th>Genere</th>\n",
       "    </tr>\n",
       "  </thead>\n",
       "  <tbody>\n",
       "    <tr>\n",
       "      <th>0</th>\n",
       "      <td>Luca</td>\n",
       "      <td>27</td>\n",
       "      <td>Francia</td>\n",
       "      <td>45618.0</td>\n",
       "      <td>Femmina</td>\n",
       "    </tr>\n",
       "    <tr>\n",
       "      <th>1</th>\n",
       "      <td>Giulia</td>\n",
       "      <td>30</td>\n",
       "      <td>Grecia</td>\n",
       "      <td>67073.0</td>\n",
       "      <td>Maschio</td>\n",
       "    </tr>\n",
       "    <tr>\n",
       "      <th>2</th>\n",
       "      <td>Marco</td>\n",
       "      <td>59</td>\n",
       "      <td>Italia</td>\n",
       "      <td>NaN</td>\n",
       "      <td>Maschio</td>\n",
       "    </tr>\n",
       "    <tr>\n",
       "      <th>3</th>\n",
       "      <td>Anna</td>\n",
       "      <td>31</td>\n",
       "      <td>Spagna</td>\n",
       "      <td>30206.0</td>\n",
       "      <td>Maschio</td>\n",
       "    </tr>\n",
       "    <tr>\n",
       "      <th>4</th>\n",
       "      <td>Francesco</td>\n",
       "      <td>55</td>\n",
       "      <td>Francia</td>\n",
       "      <td>32947.0</td>\n",
       "      <td>Femmina</td>\n",
       "    </tr>\n",
       "    <tr>\n",
       "      <th>5</th>\n",
       "      <td>Sara</td>\n",
       "      <td>29</td>\n",
       "      <td>NaN</td>\n",
       "      <td>51625.0</td>\n",
       "      <td>Maschio</td>\n",
       "    </tr>\n",
       "    <tr>\n",
       "      <th>6</th>\n",
       "      <td>Davide</td>\n",
       "      <td>58</td>\n",
       "      <td>Francia</td>\n",
       "      <td>21415.0</td>\n",
       "      <td>Maschio</td>\n",
       "    </tr>\n",
       "    <tr>\n",
       "      <th>7</th>\n",
       "      <td>Elisa</td>\n",
       "      <td>31</td>\n",
       "      <td>Francia</td>\n",
       "      <td>46709.0</td>\n",
       "      <td>Maschio</td>\n",
       "    </tr>\n",
       "    <tr>\n",
       "      <th>8</th>\n",
       "      <td>Matteo</td>\n",
       "      <td>37</td>\n",
       "      <td>Spagna</td>\n",
       "      <td>31958.0</td>\n",
       "      <td>Maschio</td>\n",
       "    </tr>\n",
       "    <tr>\n",
       "      <th>9</th>\n",
       "      <td>Laura</td>\n",
       "      <td>50</td>\n",
       "      <td>Italia</td>\n",
       "      <td>25360.0</td>\n",
       "      <td>Femmina</td>\n",
       "    </tr>\n",
       "  </tbody>\n",
       "</table>\n",
       "</div>"
      ],
      "text/plain": [
       "        Nome  Età    Paese  Salario   Genere\n",
       "0       Luca   27  Francia  45618.0  Femmina\n",
       "1     Giulia   30   Grecia  67073.0  Maschio\n",
       "2      Marco   59   Italia      NaN  Maschio\n",
       "3       Anna   31   Spagna  30206.0  Maschio\n",
       "4  Francesco   55  Francia  32947.0  Femmina\n",
       "5       Sara   29      NaN  51625.0  Maschio\n",
       "6     Davide   58  Francia  21415.0  Maschio\n",
       "7      Elisa   31  Francia  46709.0  Maschio\n",
       "8     Matteo   37   Spagna  31958.0  Maschio\n",
       "9      Laura   50   Italia  25360.0  Femmina"
      ]
     },
     "execution_count": 7,
     "metadata": {},
     "output_type": "execute_result"
    }
   ],
   "source": [
    "#esplorzione dei dati \n",
    "df.head(10) #df.head(10): Restituisce le prime 10 righe del DataFrame. Puoi sostituire 10 con qualsiasi altro numero "
   ]
  },
  {
   "cell_type": "code",
   "execution_count": 8,
   "id": "e80cb980-309c-4395-836f-04bbcc66cc88",
   "metadata": {},
   "outputs": [
    {
     "name": "stdout",
     "output_type": "stream",
     "text": [
      "<class 'pandas.core.frame.DataFrame'>\n",
      "RangeIndex: 16 entries, 0 to 15\n",
      "Data columns (total 5 columns):\n",
      " #   Column   Non-Null Count  Dtype  \n",
      "---  ------   --------------  -----  \n",
      " 0   Nome     16 non-null     object \n",
      " 1   Età      16 non-null     int64  \n",
      " 2   Paese    15 non-null     object \n",
      " 3   Salario  15 non-null     float64\n",
      " 4   Genere   16 non-null     object \n",
      "dtypes: float64(1), int64(1), object(3)\n",
      "memory usage: 772.0+ bytes\n"
     ]
    }
   ],
   "source": [
    "df.info() # Ti mostra le informazioni principali del DataFrame"
   ]
  },
  {
   "cell_type": "markdown",
   "id": "d27bc64a-2fcd-4b77-8519-3c0a075e0584",
   "metadata": {},
   "source": [
    "🔍 Spiegazione dettagliata\n",
    "<class 'pandas.core.frame.DataFrame'>\n",
    "📋 Significa che df è un DataFrame, cioè una tabella come un foglio Excel, fatta di righe e colonne.\n",
    "\n",
    "RangeIndex: 16 entries, 0 to 15\n",
    "🔢 Ci sono 16 righe (record), numerate da 0 a 15 (Python inizia sempre a contare da 0!).\n",
    "\n",
    "Data columns (total 5 columns)\n",
    "📊 Il DataFrame ha 5 colonne: Nome, Età, Paese, Salario, Genere."
   ]
  },
  {
   "cell_type": "markdown",
   "id": "3c1ccf26-2ee0-4c69-878c-5d6dfe75904f",
   "metadata": {},
   "source": [
    "| # | Nome colonna | Valori non nulli | Tipo dato | Significato                                    |\n",
    "| - | ------------ | ---------------- | --------- | ---------------------------------------------- |\n",
    "| 0 | Nome         | 16 non-null      | object    | Stringa (nomi delle persone)                   |\n",
    "| 1 | Età          | 16 non-null      | int64     | Numero intero (età)                            |\n",
    "| 2 | Paese        | 15 non-null      | object    | Stringa (paese di origine), 1 valore mancante  |\n",
    "| 3 | Salario      | 15 non-null      | float64   | Numero decimale (stipendio), 1 valore mancante |\n",
    "| 4 | Genere       | 16 non-null      | object    | Stringa (Maschio/Femmina)     "
   ]
  },
  {
   "cell_type": "code",
   "execution_count": 14,
   "id": "6061689d-4fa6-47fc-9498-d3abbd117c95",
   "metadata": {},
   "outputs": [
    {
     "data": {
      "text/html": [
       "<div>\n",
       "<style scoped>\n",
       "    .dataframe tbody tr th:only-of-type {\n",
       "        vertical-align: middle;\n",
       "    }\n",
       "\n",
       "    .dataframe tbody tr th {\n",
       "        vertical-align: top;\n",
       "    }\n",
       "\n",
       "    .dataframe thead th {\n",
       "        text-align: right;\n",
       "    }\n",
       "</style>\n",
       "<table border=\"1\" class=\"dataframe\">\n",
       "  <thead>\n",
       "    <tr style=\"text-align: right;\">\n",
       "      <th></th>\n",
       "      <th>Nome</th>\n",
       "      <th>Età</th>\n",
       "      <th>Paese</th>\n",
       "      <th>Salario</th>\n",
       "      <th>Genere</th>\n",
       "    </tr>\n",
       "  </thead>\n",
       "  <tbody>\n",
       "    <tr>\n",
       "      <th>11</th>\n",
       "      <td>Martina</td>\n",
       "      <td>50</td>\n",
       "      <td>Spagna</td>\n",
       "      <td>37614.0</td>\n",
       "      <td>Maschio</td>\n",
       "    </tr>\n",
       "    <tr>\n",
       "      <th>12</th>\n",
       "      <td>Giorgio</td>\n",
       "      <td>43</td>\n",
       "      <td>Spagna</td>\n",
       "      <td>65730.0</td>\n",
       "      <td>Femmina</td>\n",
       "    </tr>\n",
       "    <tr>\n",
       "      <th>13</th>\n",
       "      <td>Chiara</td>\n",
       "      <td>33</td>\n",
       "      <td>Spagna</td>\n",
       "      <td>68378.0</td>\n",
       "      <td>Maschio</td>\n",
       "    </tr>\n",
       "    <tr>\n",
       "      <th>14</th>\n",
       "      <td>Simone</td>\n",
       "      <td>22</td>\n",
       "      <td>Germania</td>\n",
       "      <td>29191.0</td>\n",
       "      <td>Femmina</td>\n",
       "    </tr>\n",
       "    <tr>\n",
       "      <th>15</th>\n",
       "      <td>Anna</td>\n",
       "      <td>31</td>\n",
       "      <td>Spagna</td>\n",
       "      <td>30206.0</td>\n",
       "      <td>Maschio</td>\n",
       "    </tr>\n",
       "  </tbody>\n",
       "</table>\n",
       "</div>"
      ],
      "text/plain": [
       "       Nome  Età     Paese  Salario   Genere\n",
       "11  Martina   50    Spagna  37614.0  Maschio\n",
       "12  Giorgio   43    Spagna  65730.0  Femmina\n",
       "13   Chiara   33    Spagna  68378.0  Maschio\n",
       "14   Simone   22  Germania  29191.0  Femmina\n",
       "15     Anna   31    Spagna  30206.0  Maschio"
      ]
     },
     "execution_count": 14,
     "metadata": {},
     "output_type": "execute_result"
    }
   ],
   "source": [
    "df.tail() # ultimu 5  delle non si conta da zero "
   ]
  },
  {
   "cell_type": "code",
   "execution_count": 13,
   "id": "2561b8ae-0395-44f8-907b-af06126d7e98",
   "metadata": {},
   "outputs": [
    {
     "data": {
      "text/html": [
       "<div>\n",
       "<style scoped>\n",
       "    .dataframe tbody tr th:only-of-type {\n",
       "        vertical-align: middle;\n",
       "    }\n",
       "\n",
       "    .dataframe tbody tr th {\n",
       "        vertical-align: top;\n",
       "    }\n",
       "\n",
       "    .dataframe thead th {\n",
       "        text-align: right;\n",
       "    }\n",
       "</style>\n",
       "<table border=\"1\" class=\"dataframe\">\n",
       "  <thead>\n",
       "    <tr style=\"text-align: right;\">\n",
       "      <th></th>\n",
       "      <th>Nome</th>\n",
       "      <th>Età</th>\n",
       "      <th>Paese</th>\n",
       "      <th>Salario</th>\n",
       "      <th>Genere</th>\n",
       "    </tr>\n",
       "  </thead>\n",
       "  <tbody>\n",
       "    <tr>\n",
       "      <th>9</th>\n",
       "      <td>Laura</td>\n",
       "      <td>50</td>\n",
       "      <td>Italia</td>\n",
       "      <td>25360.0</td>\n",
       "      <td>Femmina</td>\n",
       "    </tr>\n",
       "    <tr>\n",
       "      <th>10</th>\n",
       "      <td>Alessandro</td>\n",
       "      <td>22</td>\n",
       "      <td>Italia</td>\n",
       "      <td>69143.0</td>\n",
       "      <td>Maschio</td>\n",
       "    </tr>\n",
       "    <tr>\n",
       "      <th>11</th>\n",
       "      <td>Martina</td>\n",
       "      <td>50</td>\n",
       "      <td>Spagna</td>\n",
       "      <td>37614.0</td>\n",
       "      <td>Maschio</td>\n",
       "    </tr>\n",
       "    <tr>\n",
       "      <th>12</th>\n",
       "      <td>Giorgio</td>\n",
       "      <td>43</td>\n",
       "      <td>Spagna</td>\n",
       "      <td>65730.0</td>\n",
       "      <td>Femmina</td>\n",
       "    </tr>\n",
       "    <tr>\n",
       "      <th>13</th>\n",
       "      <td>Chiara</td>\n",
       "      <td>33</td>\n",
       "      <td>Spagna</td>\n",
       "      <td>68378.0</td>\n",
       "      <td>Maschio</td>\n",
       "    </tr>\n",
       "    <tr>\n",
       "      <th>14</th>\n",
       "      <td>Simone</td>\n",
       "      <td>22</td>\n",
       "      <td>Germania</td>\n",
       "      <td>29191.0</td>\n",
       "      <td>Femmina</td>\n",
       "    </tr>\n",
       "    <tr>\n",
       "      <th>15</th>\n",
       "      <td>Anna</td>\n",
       "      <td>31</td>\n",
       "      <td>Spagna</td>\n",
       "      <td>30206.0</td>\n",
       "      <td>Maschio</td>\n",
       "    </tr>\n",
       "  </tbody>\n",
       "</table>\n",
       "</div>"
      ],
      "text/plain": [
       "          Nome  Età     Paese  Salario   Genere\n",
       "9        Laura   50    Italia  25360.0  Femmina\n",
       "10  Alessandro   22    Italia  69143.0  Maschio\n",
       "11     Martina   50    Spagna  37614.0  Maschio\n",
       "12     Giorgio   43    Spagna  65730.0  Femmina\n",
       "13      Chiara   33    Spagna  68378.0  Maschio\n",
       "14      Simone   22  Germania  29191.0  Femmina\n",
       "15        Anna   31    Spagna  30206.0  Maschio"
      ]
     },
     "execution_count": 13,
     "metadata": {},
     "output_type": "execute_result"
    }
   ],
   "source": [
    "df.tail(7)# Mostra le ultime 7 righe del DataFrame (l'indice non parte da zero)"
   ]
  },
  {
   "cell_type": "code",
   "execution_count": 11,
   "id": "d8fa9c15-845c-46aa-89de-8866998c57ad",
   "metadata": {},
   "outputs": [
    {
     "data": {
      "text/plain": [
       "(16, 5)"
      ]
     },
     "execution_count": 11,
     "metadata": {},
     "output_type": "execute_result"
    }
   ],
   "source": [
    "df.shape  # Quante righe e quante colonne ha il nostro DataFrame? Scopriamolo con .shape!"
   ]
  },
  {
   "cell_type": "code",
   "execution_count": 25,
   "id": "6b3e946e-9c63-42cb-9258-3f555f35773a",
   "metadata": {},
   "outputs": [
    {
     "data": {
      "text/html": [
       "<div>\n",
       "<style scoped>\n",
       "    .dataframe tbody tr th:only-of-type {\n",
       "        vertical-align: middle;\n",
       "    }\n",
       "\n",
       "    .dataframe tbody tr th {\n",
       "        vertical-align: top;\n",
       "    }\n",
       "\n",
       "    .dataframe thead th {\n",
       "        text-align: right;\n",
       "    }\n",
       "</style>\n",
       "<table border=\"1\" class=\"dataframe\">\n",
       "  <thead>\n",
       "    <tr style=\"text-align: right;\">\n",
       "      <th></th>\n",
       "      <th>Età</th>\n",
       "      <th>Salario</th>\n",
       "    </tr>\n",
       "  </thead>\n",
       "  <tbody>\n",
       "    <tr>\n",
       "      <th>count</th>\n",
       "      <td>16.000000</td>\n",
       "      <td>15.000000</td>\n",
       "    </tr>\n",
       "    <tr>\n",
       "      <th>mean</th>\n",
       "      <td>38.000000</td>\n",
       "      <td>43544.866667</td>\n",
       "    </tr>\n",
       "    <tr>\n",
       "      <th>std</th>\n",
       "      <td>12.633289</td>\n",
       "      <td>17032.218092</td>\n",
       "    </tr>\n",
       "    <tr>\n",
       "      <th>min</th>\n",
       "      <td>22.000000</td>\n",
       "      <td>21415.000000</td>\n",
       "    </tr>\n",
       "    <tr>\n",
       "      <th>25%</th>\n",
       "      <td>29.750000</td>\n",
       "      <td>30206.000000</td>\n",
       "    </tr>\n",
       "    <tr>\n",
       "      <th>50%</th>\n",
       "      <td>32.000000</td>\n",
       "      <td>37614.000000</td>\n",
       "    </tr>\n",
       "    <tr>\n",
       "      <th>75%</th>\n",
       "      <td>50.000000</td>\n",
       "      <td>58677.500000</td>\n",
       "    </tr>\n",
       "    <tr>\n",
       "      <th>max</th>\n",
       "      <td>59.000000</td>\n",
       "      <td>69143.000000</td>\n",
       "    </tr>\n",
       "  </tbody>\n",
       "</table>\n",
       "</div>"
      ],
      "text/plain": [
       "             Età       Salario\n",
       "count  16.000000     15.000000\n",
       "mean   38.000000  43544.866667\n",
       "std    12.633289  17032.218092\n",
       "min    22.000000  21415.000000\n",
       "25%    29.750000  30206.000000\n",
       "50%    32.000000  37614.000000\n",
       "75%    50.000000  58677.500000\n",
       "max    59.000000  69143.000000"
      ]
     },
     "execution_count": 25,
     "metadata": {},
     "output_type": "execute_result"
    }
   ],
   "source": [
    "# ✅ 3. Statistiche descrittive: il riassunto superpotente delle colonne numeriche!\n",
    "df.describe()"
   ]
  },
  {
   "cell_type": "code",
   "execution_count": 27,
   "id": "999a5aa2-3bfa-459f-a9d9-7a79b36de999",
   "metadata": {},
   "outputs": [
    {
     "data": {
      "text/plain": [
       "np.float64(43544.86666666667)"
      ]
     },
     "execution_count": 27,
     "metadata": {},
     "output_type": "execute_result"
    }
   ],
   "source": [
    "# Calcoliamo la media della colonna 'Salario' (quanto guadagna in media la banda)\n",
    "  # media "
   ]
  },
  {
   "cell_type": "code",
   "execution_count": 28,
   "id": "13cd290b-48f0-4150-bca5-32e84bfe0b3c",
   "metadata": {},
   "outputs": [
    {
     "data": {
      "text/plain": [
       "np.float64(653173.0)"
      ]
     },
     "execution_count": 28,
     "metadata": {},
     "output_type": "execute_result"
    }
   ],
   "source": [
    "df['Salario'].sum() # Somma totale dei salari"
   ]
  },
  {
   "cell_type": "code",
   "execution_count": 29,
   "id": "82d4e17b-754c-4913-af37-b6586cdbec95",
   "metadata": {},
   "outputs": [
    {
     "data": {
      "text/plain": [
       "np.float64(69143.0)"
      ]
     },
     "execution_count": 29,
     "metadata": {},
     "output_type": "execute_result"
    }
   ],
   "source": [
    "df['Salario'].max() # Salario massimo"
   ]
  },
  {
   "cell_type": "code",
   "execution_count": 30,
   "id": "25ea598a-e15d-4cb5-b0e8-5735febd3193",
   "metadata": {},
   "outputs": [
    {
     "data": {
      "text/plain": [
       "np.float64(21415.0)"
      ]
     },
     "execution_count": 30,
     "metadata": {},
     "output_type": "execute_result"
    }
   ],
   "source": [
    "df['Salario'].min() # Salario minimo"
   ]
  },
  {
   "cell_type": "code",
   "execution_count": 36,
   "id": "9d16184a-5e85-4686-acd0-f6b421110ed7",
   "metadata": {},
   "outputs": [
    {
     "data": {
      "text/plain": [
       "np.float64(17032.21809171693)"
      ]
     },
     "execution_count": 36,
     "metadata": {},
     "output_type": "execute_result"
    }
   ],
   "source": [
    "df['Salario'].std()  # Deviazione standard con Pandas (quanto \"oscillano\" i salari intorno alla media)"
   ]
  },
  {
   "cell_type": "code",
   "execution_count": 37,
   "id": "b03ba3d3-a08e-4eae-b6ed-6c56ca40042f",
   "metadata": {},
   "outputs": [
    {
     "data": {
      "text/plain": [
       "np.float64(58677.5)"
      ]
     },
     "execution_count": 37,
     "metadata": {},
     "output_type": "execute_result"
    }
   ],
   "source": [
    "df['Salario'].quantile(0.75) # Quartile 3 (75° percentile): chi guadagna più del 75% degli altri"
   ]
  },
  {
   "cell_type": "code",
   "execution_count": 38,
   "id": "2afcf7bb-0bdf-4aae-aac2-7aa1f9b5782e",
   "metadata": {},
   "outputs": [
    {
     "data": {
      "text/plain": [
       "np.float64(30206.0)"
      ]
     },
     "execution_count": 38,
     "metadata": {},
     "output_type": "execute_result"
    }
   ],
   "source": [
    "df['Salario'].quantile(0.25) # Quartile 1 (25° percentile): chi guadagna meno del 75% degli altri 😅"
   ]
  },
  {
   "cell_type": "code",
   "execution_count": 39,
   "id": "99e05a0f-35fd-4677-a74e-9ae568efecd3",
   "metadata": {},
   "outputs": [
    {
     "data": {
      "text/plain": [
       "np.float64(37614.0)"
      ]
     },
     "execution_count": 39,
     "metadata": {},
     "output_type": "execute_result"
    }
   ],
   "source": [
    "df['Salario'].quantile(0.50) # Quartile 2 (mediana o 50° percentile): il salario \"centrale\""
   ]
  },
  {
   "cell_type": "markdown",
   "id": "bf935efa-0664-493c-8511-f87887273e50",
   "metadata": {},
   "source": [
    "🧮 Calcoli alternativi con NumPy (dietro le quinte)\n",
    "\n"
   ]
  },
  {
   "cell_type": "code",
   "execution_count": 40,
   "id": "f97813dc-1d08-4188-8a3b-744fc8d6771b",
   "metadata": {},
   "outputs": [
    {
     "data": {
      "text/plain": [
       "np.float64(nan)"
      ]
     },
     "execution_count": 40,
     "metadata": {},
     "output_type": "execute_result"
    }
   ],
   "source": [
    "\n",
    "df[\"Salario\"].values.mean()"
   ]
  },
  {
   "cell_type": "code",
   "execution_count": 41,
   "id": "6ce0eae3-8e6e-411c-8e36-d5f1954d472d",
   "metadata": {},
   "outputs": [
    {
     "data": {
      "text/plain": [
       "(np.float64(17032.21809171693), np.float64(nan))"
      ]
     },
     "execution_count": 41,
     "metadata": {},
     "output_type": "execute_result"
    }
   ],
   "source": [
    "# prima fai la devazione stardad pandas e poi numpy\n",
    "df[\"Salario\"].std() , df[\"Salario\"].values.std()"
   ]
  },
  {
   "cell_type": "markdown",
   "id": "b33cd89b-7135-480e-9995-59e6a0fcc3ba",
   "metadata": {},
   "source": [
    "# --"
   ]
  },
  {
   "cell_type": "markdown",
   "id": "b274d840-6e1f-47e9-9fb1-3b542fb0a4bb",
   "metadata": {},
   "source": [
    "✅ 4. Controlla valori NaN (valori mancanti) nel DataFrame"
   ]
  },
  {
   "cell_type": "code",
   "execution_count": 43,
   "id": "246f1a4e-2bff-4d7f-9315-5c0d6c0996fb",
   "metadata": {},
   "outputs": [
    {
     "data": {
      "text/plain": [
       "<bound method DataFrame.sum of      Nome    Età  Paese  Salario  Genere\n",
       "0   False  False  False    False   False\n",
       "1   False  False  False    False   False\n",
       "2   False  False  False     True   False\n",
       "3   False  False  False    False   False\n",
       "4   False  False  False    False   False\n",
       "5   False  False   True    False   False\n",
       "6   False  False  False    False   False\n",
       "7   False  False  False    False   False\n",
       "8   False  False  False    False   False\n",
       "9   False  False  False    False   False\n",
       "10  False  False  False    False   False\n",
       "11  False  False  False    False   False\n",
       "12  False  False  False    False   False\n",
       "13  False  False  False    False   False\n",
       "14  False  False  False    False   False\n",
       "15  False  False  False    False   False>"
      ]
     },
     "execution_count": 43,
     "metadata": {},
     "output_type": "execute_result"
    }
   ],
   "source": [
    "df.isna().sum # True sarebbe vero nan totale "
   ]
  },
  {
   "cell_type": "code",
   "execution_count": 106,
   "id": "3d3c02a0-0aa6-4c6a-92f7-a91bf41656a0",
   "metadata": {},
   "outputs": [
    {
     "name": "stdout",
     "output_type": "stream",
     "text": [
      "          Nome  Età     Paese  Salario   Genere   Professione Stipendio_alto  \\\n",
      "0         Luca   27   Francia  45618.0  Maschio     Ingegnere             Sì   \n",
      "1       Giulia   30    Grecia  67073.0  Femmina      Avvocato             Sì   \n",
      "3         Anna   31    Spagna  30206.0  Femmina        Medico             Sì   \n",
      "4    Francesco   55   Francia  32947.0  Maschio    Architetto             Sì   \n",
      "6       Davide   58   Francia  21415.0  Maschio    Insegnante             No   \n",
      "7        Elisa   31   Francia  46709.0  Femmina  Data Analyst             Sì   \n",
      "8       Matteo   37    Spagna  31958.0  Maschio     Contabile             Sì   \n",
      "9        Laura   50    Italia  25360.0  Femmina    Infermiere             No   \n",
      "10  Alessandro   22    Italia  69143.0  Maschio  Sviluppatore             Sì   \n",
      "11     Martina   50    Spagna  37614.0  Femmina    Farmacista             Sì   \n",
      "12     Giorgio   43    Spagna  65730.0  Maschio     Psicologo             Sì   \n",
      "13      Chiara   33    Spagna  68378.0  Femmina       Biologo             Sì   \n",
      "14      Simone   22  Germania  29191.0  Maschio      Designer             No   \n",
      "\n",
      "   NuovaColonna  Salario_Aumentato  \n",
      "0            OK            50179.8  \n",
      "1            OK            73780.3  \n",
      "3            OK            33226.6  \n",
      "4            OK            36241.7  \n",
      "6            OK            23556.5  \n",
      "7            OK            51379.9  \n",
      "8            OK            35153.8  \n",
      "9            OK            27896.0  \n",
      "10           OK            76057.3  \n",
      "11           OK            41375.4  \n",
      "12           OK            72303.0  \n",
      "13           OK            75215.8  \n",
      "14           OK            32110.1  \n"
     ]
    }
   ],
   "source": [
    "df[df['Salario'].isnull()] # ✅ Filtra le righe dove il salario è NaN (mancante)\n",
    "print(df)"
   ]
  },
  {
   "cell_type": "markdown",
   "id": "0ba7ff1f-4bd3-492e-b2ea-719447b705cf",
   "metadata": {},
   "source": [
    "✅ 5. Controlla duplicati nel DataFrame"
   ]
  },
  {
   "cell_type": "code",
   "execution_count": 47,
   "id": "9629aa90-78f2-4d09-a253-97661df0db5a",
   "metadata": {},
   "outputs": [
    {
     "data": {
      "text/plain": [
       "np.int64(1)"
      ]
     },
     "execution_count": 47,
     "metadata": {},
     "output_type": "execute_result"
    }
   ],
   "source": [
    "df.duplicated().sum() # Conta quante righe sono duplicate"
   ]
  },
  {
   "cell_type": "code",
   "execution_count": 48,
   "id": "91482dfa-5a1b-40d2-8cdb-5dda8e75b052",
   "metadata": {},
   "outputs": [
    {
     "data": {
      "text/html": [
       "<div>\n",
       "<style scoped>\n",
       "    .dataframe tbody tr th:only-of-type {\n",
       "        vertical-align: middle;\n",
       "    }\n",
       "\n",
       "    .dataframe tbody tr th {\n",
       "        vertical-align: top;\n",
       "    }\n",
       "\n",
       "    .dataframe thead th {\n",
       "        text-align: right;\n",
       "    }\n",
       "</style>\n",
       "<table border=\"1\" class=\"dataframe\">\n",
       "  <thead>\n",
       "    <tr style=\"text-align: right;\">\n",
       "      <th></th>\n",
       "      <th>Nome</th>\n",
       "      <th>Età</th>\n",
       "      <th>Paese</th>\n",
       "      <th>Salario</th>\n",
       "      <th>Genere</th>\n",
       "    </tr>\n",
       "  </thead>\n",
       "  <tbody>\n",
       "    <tr>\n",
       "      <th>15</th>\n",
       "      <td>Anna</td>\n",
       "      <td>31</td>\n",
       "      <td>Spagna</td>\n",
       "      <td>30206.0</td>\n",
       "      <td>Maschio</td>\n",
       "    </tr>\n",
       "  </tbody>\n",
       "</table>\n",
       "</div>"
      ],
      "text/plain": [
       "    Nome  Età   Paese  Salario   Genere\n",
       "15  Anna   31  Spagna  30206.0  Maschio"
      ]
     },
     "execution_count": 48,
     "metadata": {},
     "output_type": "execute_result"
    }
   ],
   "source": [
    "df[df.duplicated()] # Mostra tutte le righe duplicate nel DataFrame"
   ]
  },
  {
   "cell_type": "code",
   "execution_count": 53,
   "id": "7a909482-0fbf-403b-bf1d-60c2d74872f2",
   "metadata": {},
   "outputs": [],
   "source": [
    " df = df.drop_duplicates()# 🧹 Addio cloni! Rimuoviamo le righe duplicate dal DataFrame"
   ]
  },
  {
   "cell_type": "code",
   "execution_count": null,
   "id": "c7dd5971-6c4a-4cb8-91d3-7fdc0f6e4854",
   "metadata": {},
   "outputs": [],
   "source": [
    "# Mantiene l'ultima occorrenza e rimuove i duplicati precedenti\n",
    "df = df.drop_duplicates(keep='last')\n",
    "\n",
    "# Mantiene la prima occorrenza (comportamento predefinito)\n",
    "df = df.drop_duplicates(keep='first')\n"
   ]
  },
  {
   "cell_type": "markdown",
   "id": "774b52a6-b037-4c36-b6fd-914b3b5b0ecf",
   "metadata": {},
   "source": [
    "⚠️ Nota: keep=True non è un valore valido in Pandas.\n",
    "I valori ammessi per keep sono:\n",
    "\n",
    "'first' → tiene la prima copia (default)\n",
    "\n",
    "'last' → tiene l’ultima copia\n",
    "\n",
    "False → elimina tutte le copie duplicate\n"
   ]
  },
  {
   "cell_type": "code",
   "execution_count": null,
   "id": "db3d440d-7561-4f01-9898-815faac70119",
   "metadata": {},
   "outputs": [],
   "source": [
    "# ci sono vari modi le mie preferite  modi per controllare i dupplicati "
   ]
  },
  {
   "cell_type": "code",
   "execution_count": 54,
   "id": "ec7b3f36-47c3-4ddc-b7d2-993ea87bc548",
   "metadata": {},
   "outputs": [
    {
     "data": {
      "text/html": [
       "<div>\n",
       "<style scoped>\n",
       "    .dataframe tbody tr th:only-of-type {\n",
       "        vertical-align: middle;\n",
       "    }\n",
       "\n",
       "    .dataframe tbody tr th {\n",
       "        vertical-align: top;\n",
       "    }\n",
       "\n",
       "    .dataframe thead th {\n",
       "        text-align: right;\n",
       "    }\n",
       "</style>\n",
       "<table border=\"1\" class=\"dataframe\">\n",
       "  <thead>\n",
       "    <tr style=\"text-align: right;\">\n",
       "      <th></th>\n",
       "      <th>Nome</th>\n",
       "      <th>Età</th>\n",
       "      <th>Paese</th>\n",
       "      <th>Salario</th>\n",
       "      <th>Genere</th>\n",
       "    </tr>\n",
       "  </thead>\n",
       "  <tbody>\n",
       "  </tbody>\n",
       "</table>\n",
       "</div>"
      ],
      "text/plain": [
       "Empty DataFrame\n",
       "Columns: [Nome, Età, Paese, Salario, Genere]\n",
       "Index: []"
      ]
     },
     "execution_count": 54,
     "metadata": {},
     "output_type": "execute_result"
    }
   ],
   "source": [
    "df[df.duplicated()] # ✅ 1. Visualizza i duplicati ancora presenti (se ce ne sono)"
   ]
  },
  {
   "cell_type": "code",
   "execution_count": 55,
   "id": "6cd2c1c0-7257-4094-a49c-6192581d789b",
   "metadata": {},
   "outputs": [
    {
     "data": {
      "text/plain": [
       "np.int64(0)"
      ]
     },
     "execution_count": 55,
     "metadata": {},
     "output_type": "execute_result"
    }
   ],
   "source": [
    "df.duplicated().sum() # ✅ 2. Conta quanti duplicati sono ancora presenti"
   ]
  },
  {
   "cell_type": "code",
   "execution_count": null,
   "id": "8065ee8b-fe33-4860-b1d0-f4551958a584",
   "metadata": {},
   "outputs": [],
   "source": [
    "# Trova duplicati basati solo su Nome, Età e Paese\n",
    "df[df.duplicated(subset=['Nome', 'Età', 'Paese'])]\n",
    "print(df) #🧾 Risultato atteso: Nel tuo dataset, la riga con Anna, 31, Spagna compare due volte (indice 3 e 15). Quindi il codice sopra ti restituirà la seconda."
   ]
  },
  {
   "cell_type": "markdown",
   "id": "eb25c7ff-9d69-44b9-a13b-c380a1a8471f",
   "metadata": {},
   "source": [
    "## ✅ Eliminare duplicati su colonne specifiche (subset) — 3 strategie\n",
    "\n",
    "\n",
    "Hai trovato persone con lo stesso Nome, Età e Paese?\n",
    "Ora puoi decidere quale versione tenere o se eliminarle tutte 👇\n"
   ]
  },
  {
   "cell_type": "code",
   "execution_count": 124,
   "id": "714a2d20-46b9-49a8-bd98-628a8d25f754",
   "metadata": {},
   "outputs": [],
   "source": [
    "#🔧 1. Tieni la prima occorrenza:\n",
    "df = df.drop_duplicates(subset=['Nome', 'Età', 'Paese'], keep='first') #🔍 Mantiene la prima riga trovata con quei valori, scarta le successive.\n"
   ]
  },
  {
   "cell_type": "code",
   "execution_count": 120,
   "id": "5efcabd7-10c8-4391-b637-b054bb0c9d72",
   "metadata": {},
   "outputs": [],
   "source": [
    "#🔧 2. Tieni l’ultima occorrenza:\n",
    "df = df.drop_duplicates(subset=['Nome', 'Età', 'Paese'], keep='last') # "
   ]
  },
  {
   "cell_type": "code",
   "execution_count": 121,
   "id": "7c22a9cf-b44f-4e78-8daf-e05907c9cbea",
   "metadata": {},
   "outputs": [],
   "source": [
    "#🔧 3. Elimina tutte le righe duplicate:\n",
    "df = df.drop_duplicates(subset=['Nome', 'Età', 'Paese'], keep=False) #❌ Nessuna pietà! Se ci sono doppioni su quelle colonne, vengono tutti rimossi."
   ]
  },
  {
   "cell_type": "code",
   "execution_count": 122,
   "id": "4adf95a9-d3dc-4fe0-b61f-d698638407a1",
   "metadata": {},
   "outputs": [],
   "source": [
    "# 👋 Teniamo solo il primo \"Nome-Età-Paese\", gli altri se ne vanno\n",
    "df = df.drop_duplicates(subset=['Nome', 'Età', 'Paese'], keep='first')\n",
    "\n",
    "# 👋 Invece qui salviamo l'ultima copia!\n",
    "df = df.drop_duplicates(subset=['Nome', 'Età', 'Paese'], keep='last')\n",
    "\n",
    "# 🔥 Qui eliminiamo TUTTI i doppioni, nessun superstite\n",
    "df = df.drop_duplicates(subset=['Nome', 'Età', 'Paese'], keep=False)\n"
   ]
  },
  {
   "cell_type": "code",
   "execution_count": 118,
   "id": "0a9c6330-4aa6-40e2-a53a-ce1caa2ffcee",
   "metadata": {},
   "outputs": [
    {
     "name": "stdout",
     "output_type": "stream",
     "text": [
      "          Nome  Età        Paese  Salario   Genere\n",
      "0         Luca   27      Francia  45618.0  Femmina\n",
      "1       Giulia   30       Grecia  67073.0  Maschio\n",
      "2        Marco   59       Italia      0.0  Maschio\n",
      "3         Anna   31       Spagna  30206.0  Maschio\n",
      "4    Francesco   55      Francia  32947.0  Femmina\n",
      "5         Sara   29  Sconosciuto  51625.0  Maschio\n",
      "6       Davide   58      Francia  21415.0  Maschio\n",
      "7        Elisa   31      Francia  46709.0  Maschio\n",
      "8       Matteo   37       Spagna  31958.0  Maschio\n",
      "9        Laura   50       Italia  25360.0  Femmina\n",
      "10  Alessandro   22       Italia  69143.0  Maschio\n",
      "11     Martina   50       Spagna  37614.0  Maschio\n",
      "12     Giorgio   43       Spagna  65730.0  Femmina\n",
      "13      Chiara   33       Spagna  68378.0  Maschio\n",
      "14      Simone   22     Germania  29191.0  Femmina\n",
      "15        Anna   31       Spagna  30206.0  Maschio\n"
     ]
    }
   ],
   "source": [
    "#✅ 8. Rimuovi i dati mancanti (NaN)\n",
    "df = df.dropna() #Elimina tutte le righe che contengono almeno un valore mancante (NaN)\n",
    "print(df) # Mostra il DataFrame pulito"
   ]
  },
  {
   "cell_type": "code",
   "execution_count": null,
   "id": "e003db0b-f6b5-4e74-9df1-33c6ddc56f6a",
   "metadata": {},
   "outputs": [],
   "source": [
    "# “Chi lascia un NaN è fuori! 🚫🧹 Rimuoviamo tutte le righe mezze vuote, così lavoriamo solo con dati completi e ordinati.”"
   ]
  },
  {
   "cell_type": "code",
   "execution_count": 116,
   "id": "3f5539ea-c1b5-4e35-8d79-4c0263f13859",
   "metadata": {},
   "outputs": [
    {
     "name": "stdout",
     "output_type": "stream",
     "text": [
      "          Nome  Età     Paese  Salario   Genere\n",
      "0         Luca   27   Francia  45618.0  Femmina\n",
      "1       Giulia   30    Grecia  67073.0  Maschio\n",
      "2        Marco   59    Italia      0.0  Maschio\n",
      "3         Anna   31    Spagna  30206.0  Maschio\n",
      "4    Francesco   55   Francia  32947.0  Femmina\n",
      "5         Sara   29       NaN  51625.0  Maschio\n",
      "6       Davide   58   Francia  21415.0  Maschio\n",
      "7        Elisa   31   Francia  46709.0  Maschio\n",
      "8       Matteo   37    Spagna  31958.0  Maschio\n",
      "9        Laura   50    Italia  25360.0  Femmina\n",
      "10  Alessandro   22    Italia  69143.0  Maschio\n",
      "11     Martina   50    Spagna  37614.0  Maschio\n",
      "12     Giorgio   43    Spagna  65730.0  Femmina\n",
      "13      Chiara   33    Spagna  68378.0  Maschio\n",
      "14      Simone   22  Germania  29191.0  Femmina\n",
      "15        Anna   31    Spagna  30206.0  Maschio\n"
     ]
    }
   ],
   "source": [
    "#Sostituisce i valori mancanti (NaN) \n",
    "df['Salario'] = df['Salario'].fillna(0) # prima nome colonna e poi lo scrivi per sostituire dato che salario numeriva nan metti zero\n",
    "print(df) # Sostituisci i valori NaN nella colonna 'Salario' con zero\n",
    "#“Quando manca il salario, facciamo finta che sia zero… almeno il conto torna! 💸😅”"
   ]
  },
  {
   "cell_type": "code",
   "execution_count": 117,
   "id": "f500dd63-261f-41a5-94cd-7a0402188bfc",
   "metadata": {},
   "outputs": [
    {
     "name": "stdout",
     "output_type": "stream",
     "text": [
      "          Nome  Età        Paese  Salario   Genere\n",
      "0         Luca   27      Francia  45618.0  Femmina\n",
      "1       Giulia   30       Grecia  67073.0  Maschio\n",
      "2        Marco   59       Italia      0.0  Maschio\n",
      "3         Anna   31       Spagna  30206.0  Maschio\n",
      "4    Francesco   55      Francia  32947.0  Femmina\n",
      "5         Sara   29  Sconosciuto  51625.0  Maschio\n",
      "6       Davide   58      Francia  21415.0  Maschio\n",
      "7        Elisa   31      Francia  46709.0  Maschio\n",
      "8       Matteo   37       Spagna  31958.0  Maschio\n",
      "9        Laura   50       Italia  25360.0  Femmina\n",
      "10  Alessandro   22       Italia  69143.0  Maschio\n",
      "11     Martina   50       Spagna  37614.0  Maschio\n",
      "12     Giorgio   43       Spagna  65730.0  Femmina\n",
      "13      Chiara   33       Spagna  68378.0  Maschio\n",
      "14      Simone   22     Germania  29191.0  Femmina\n",
      "15        Anna   31       Spagna  30206.0  Maschio\n"
     ]
    }
   ],
   "source": [
    "df['Paese'] = df['Paese'].fillna('Sconosciuto') ## Sostituisci i NaN nella colonna 'Paese' con la parola 'Sconosciuto'\n",
    "print(df) # Mostra il risultato\n",
    "#Se un Paese è mancante, possiamo indicarlo con 'Sconosciuto' invece di lasciarlo vuoto.\n",
    "#Così eviti problemi nei filtri e nei grafici, e il dataset resta leggibile."
   ]
  },
  {
   "cell_type": "markdown",
   "id": "51d7fda4-7218-4fff-a696-912e7f59d1ca",
   "metadata": {},
   "source": [
    "## ----"
   ]
  },
  {
   "cell_type": "code",
   "execution_count": 125,
   "id": "84769c84-3e57-4d39-ba3e-e9bf6241325d",
   "metadata": {},
   "outputs": [
    {
     "data": {
      "text/plain": [
       "0     45618.0\n",
       "1     67073.0\n",
       "2         0.0\n",
       "3     30206.0\n",
       "4     32947.0\n",
       "5     51625.0\n",
       "6     21415.0\n",
       "7     46709.0\n",
       "8     31958.0\n",
       "9     25360.0\n",
       "10    69143.0\n",
       "11    37614.0\n",
       "12    65730.0\n",
       "13    68378.0\n",
       "14    29191.0\n",
       "Name: Salario, dtype: float64"
      ]
     },
     "execution_count": 125,
     "metadata": {},
     "output_type": "execute_result"
    }
   ],
   "source": [
    "# dopo che abbiamo esplorato i dati in questo momento vogliamo vedere \n",
    "# ora ci occupiamo delle colonnie \n",
    "# selezione delle colonnie \n",
    "df['Salario'] # in questo momento abbiamo visto la colonia "
   ]
  },
  {
   "cell_type": "code",
   "execution_count": 128,
   "id": "e0e480a8-0b11-4f51-9c58-76dfbccef19b",
   "metadata": {},
   "outputs": [
    {
     "name": "stdout",
     "output_type": "stream",
     "text": [
      "          Nome  Età        Paese  Salario   Genere\n",
      "0         Luca   27      Francia  45618.0  Femmina\n",
      "1       Giulia   30       Grecia  67073.0  Maschio\n",
      "2        Marco   59       Italia      0.0  Maschio\n",
      "3         Anna   31       Spagna  30206.0  Maschio\n",
      "4    Francesco   55      Francia  32947.0  Femmina\n",
      "5         Sara   29  Sconosciuto  51625.0  Maschio\n",
      "6       Davide   58      Francia  21415.0  Maschio\n",
      "7        Elisa   31      Francia  46709.0  Maschio\n",
      "8       Matteo   37       Spagna  31958.0  Maschio\n",
      "9        Laura   50       Italia  25360.0  Femmina\n",
      "10  Alessandro   22       Italia  69143.0  Maschio\n",
      "11     Martina   50       Spagna  37614.0  Maschio\n",
      "12     Giorgio   43       Spagna  65730.0  Femmina\n",
      "13      Chiara   33       Spagna  68378.0  Maschio\n",
      "14      Simone   22     Germania  29191.0  Femmina\n"
     ]
    }
   ],
   "source": [
    "# Sostituisci i NaN con la media dei salari un altra possibilita \n",
    "media = df['Salario'].mean()\n",
    "df['Salario'] = df['Salario'].fillna(media)\n",
    "print(df)"
   ]
  },
  {
   "cell_type": "code",
   "execution_count": 127,
   "id": "27076041-d625-4ebe-9141-ac472929dd69",
   "metadata": {},
   "outputs": [
    {
     "name": "stdout",
     "output_type": "stream",
     "text": [
      "          Nome  Età        Paese  Salario   Genere\n",
      "0         Luca   27      Francia  45618.0  Femmina\n",
      "1       Giulia   30       Grecia  67073.0  Maschio\n",
      "2        Marco   59       Italia      0.0  Maschio\n",
      "3         Anna   31       Spagna  30206.0  Maschio\n",
      "4    Francesco   55      Francia  32947.0  Femmina\n",
      "5         Sara   29  Sconosciuto  51625.0  Maschio\n",
      "6       Davide   58      Francia  21415.0  Maschio\n",
      "7        Elisa   31      Francia  46709.0  Maschio\n",
      "8       Matteo   37       Spagna  31958.0  Maschio\n",
      "9        Laura   50       Italia  25360.0  Femmina\n",
      "10  Alessandro   22       Italia  69143.0  Maschio\n",
      "11     Martina   50       Spagna  37614.0  Maschio\n",
      "12     Giorgio   43       Spagna  65730.0  Femmina\n",
      "13      Chiara   33       Spagna  68378.0  Maschio\n",
      "14      Simone   22     Germania  29191.0  Femmina\n"
     ]
    }
   ],
   "source": [
    "df['Salario'] = df['Salario'].fillna(df['Salario'].median())\n",
    "print(df)\n"
   ]
  },
  {
   "cell_type": "code",
   "execution_count": null,
   "id": "6935dc46-6378-4007-9b97-d959073cd122",
   "metadata": {},
   "outputs": [],
   "source": [
    "# puoi scrivere due modi piu semplici per il codice \n",
    "# primo codice\n",
    "df['Salario'] = df['Salario'].fillna(df['Salario'].mean()) #🔹 Modo 1 — Tutto in una riga\n",
    "# secondo codice \n",
    "media = df['Salario'].mean()   # Calcola la media\n",
    "df['Salario'] = df['Salario'].fillna(media)  # Calcola la media #🔹 Modo 2 — Diviso in due passaggi\n",
    "# “In entrambi i casi, riempiamo i buchi nei salari con la media: un po’ come dare uno stipendio medio a chi non l’ha dichiarato! 💰📊”"
   ]
  },
  {
   "cell_type": "markdown",
   "id": "737c911d-c527-4fd2-9cab-6be4ae851102",
   "metadata": {},
   "source": [
    "🎓 Iniziamo dalla media... ma guarda cosa puoi fare con lo stesso schema!\n",
    "Hai visto come si calcola la media e la si usa per riempire i dati mancanti?\n",
    "Adesso ti faccio vedere la magia della programmazione:\n",
    "👉 Il codice è quasi lo stesso, cambi solo una parola... ed ecco che ottieni mediana, massimo, minimo, deviazione standard, moda!"
   ]
  },
  {
   "cell_type": "code",
   "execution_count": null,
   "id": "b1a4b7cf-aefb-46cf-97e2-3bc15883dca0",
   "metadata": {},
   "outputs": [],
   "source": [
    "#Media\n",
    "df['Salario'] = df['Salario'].fillna(df['Salario'].mean())\n",
    "#Mediana\n",
    "df['Salario'] = df['Salario'].fillna(df['Salario'].median())\n",
    "#Min\n",
    "df['Salario'] = df['Salario'].fillna(df['Salario'].min())\n",
    "#Max\n",
    "df['Salario']= df ['Salario'].fillna(df['Salario'].max())\n",
    "#devazione standard\n",
    "df['Salario'] = df['Salario'].fillna(df['Salario'].std())\n",
    "# moda \n",
    "df['Paese'] = df['Paese'].fillna(df['Paese'].mode()[0])#🔁.mode()restituisce una serie di valori(può esserci più di una “moda”), per questo serve[0]per prendere il primo."
   ]
  },
  {
   "cell_type": "code",
   "execution_count": null,
   "id": "fdd92d66-aab5-4050-ae88-0d56b7cf23c9",
   "metadata": {},
   "outputs": [],
   "source": [
    "df['Salario'] = df['Salario'].fillna(0) # ✅ Cosa fa la prima riga: 👉 Cerca nella colonna Salario tutti i valori NaN (cioè mancanti) e li sostituisce con 0.\n",
    "df['Paese'] = df['Paese'].fillna('Sconosciuto') #👉 Cerca nella colonna Paese tutti i valori NaN e li sostituisce con la stringa 'Sconosciuto'.\n",
    "\n",
    "#💬 Esempio: se una persona non ha dichiarato lo stipendio, mettiamo 0 al posto del valore mancante.\n",
    "#💬 Esempio: se non sappiamo da che Paese viene una persona, scriviamo “Sconosciuto”."
   ]
  },
  {
   "cell_type": "markdown",
   "id": "e96db394-98ba-44da-bfe6-081da3fba5c2",
   "metadata": {},
   "source": [
    "\"Hai un buco nello stipendio? Metti uno zero!.😄 \n",
    "\n",
    "Non sai da dove viene qualcuno? Etichettalo come Sconosciuto!.😄 \n",
    "\n",
    "Così i NaN spariscono, e i dati sono pronti per l’analisi! 🧹📊\""
   ]
  },
  {
   "cell_type": "markdown",
   "id": "d9d748c4-8511-4fd5-a2ef-649c583f948d",
   "metadata": {},
   "source": [
    "“Questa è la cosa più bella della programmazione: impari un modello di codice, e poi cambi solo ciò che ti serve: media, mediana, massimo…\n",
    "E così impari tutto un po’ alla volta, senza dover riscrivere tutto ogni volta! 🎉💻”"
   ]
  },
  {
   "cell_type": "code",
   "execution_count": 76,
   "id": "813a240e-6757-4e1d-986c-d927dcddb4f0",
   "metadata": {},
   "outputs": [
    {
     "data": {
      "text/plain": [
       "0      Francia\n",
       "1       Grecia\n",
       "3       Spagna\n",
       "4      Francia\n",
       "6      Francia\n",
       "7      Francia\n",
       "8       Spagna\n",
       "9       Italia\n",
       "10      Italia\n",
       "11      Spagna\n",
       "12      Spagna\n",
       "13      Spagna\n",
       "14    Germania\n",
       "Name: Paese, dtype: object"
      ]
     },
     "execution_count": 76,
     "metadata": {},
     "output_type": "execute_result"
    }
   ],
   "source": [
    "df['Paese']"
   ]
  },
  {
   "cell_type": "code",
   "execution_count": null,
   "id": "6c6c7aee-51c8-4c5f-b94a-bd40e8df8b42",
   "metadata": {},
   "outputs": [],
   "source": [
    "# bonus \n",
    "print(df['Paese']) #✅ Controllare i dati\n",
    "df['Paese'].value_counts() #✅ Contare i valori\n",
    "df['Paese'] = df['Paese'].fillna('Sconosciuto')# ✅ Sostituire i NaN\n",
    "df[df['Paese'] == 'Italia'] #✅ Filtrare\n",
    "\n",
    "#Scrivendo df['Paese'], seleziono solo la colonna Paese. È come dire a Python: fammi vedere solo questa parte della tabella!\n",
    "#Poi, posso contarla, modificarla, analizzarla… o ripulirla dai valori mancanti!"
   ]
  },
  {
   "cell_type": "code",
   "execution_count": 74,
   "id": "a97543a6-4a51-411d-957d-acea3fe47df0",
   "metadata": {},
   "outputs": [
    {
     "data": {
      "text/html": [
       "<div>\n",
       "<style scoped>\n",
       "    .dataframe tbody tr th:only-of-type {\n",
       "        vertical-align: middle;\n",
       "    }\n",
       "\n",
       "    .dataframe tbody tr th {\n",
       "        vertical-align: top;\n",
       "    }\n",
       "\n",
       "    .dataframe thead th {\n",
       "        text-align: right;\n",
       "    }\n",
       "</style>\n",
       "<table border=\"1\" class=\"dataframe\">\n",
       "  <thead>\n",
       "    <tr style=\"text-align: right;\">\n",
       "      <th></th>\n",
       "      <th>Nome</th>\n",
       "      <th>Età</th>\n",
       "      <th>Paese</th>\n",
       "      <th>Salario</th>\n",
       "      <th>Genere</th>\n",
       "    </tr>\n",
       "  </thead>\n",
       "  <tbody>\n",
       "    <tr>\n",
       "      <th>0</th>\n",
       "      <td>Luca</td>\n",
       "      <td>27</td>\n",
       "      <td>Francia</td>\n",
       "      <td>45618.0</td>\n",
       "      <td>Femmina</td>\n",
       "    </tr>\n",
       "    <tr>\n",
       "      <th>1</th>\n",
       "      <td>Giulia</td>\n",
       "      <td>30</td>\n",
       "      <td>Grecia</td>\n",
       "      <td>67073.0</td>\n",
       "      <td>Maschio</td>\n",
       "    </tr>\n",
       "    <tr>\n",
       "      <th>3</th>\n",
       "      <td>Anna</td>\n",
       "      <td>31</td>\n",
       "      <td>Spagna</td>\n",
       "      <td>30206.0</td>\n",
       "      <td>Maschio</td>\n",
       "    </tr>\n",
       "    <tr>\n",
       "      <th>4</th>\n",
       "      <td>Francesco</td>\n",
       "      <td>55</td>\n",
       "      <td>Francia</td>\n",
       "      <td>32947.0</td>\n",
       "      <td>Femmina</td>\n",
       "    </tr>\n",
       "    <tr>\n",
       "      <th>6</th>\n",
       "      <td>Davide</td>\n",
       "      <td>58</td>\n",
       "      <td>Francia</td>\n",
       "      <td>21415.0</td>\n",
       "      <td>Maschio</td>\n",
       "    </tr>\n",
       "    <tr>\n",
       "      <th>7</th>\n",
       "      <td>Elisa</td>\n",
       "      <td>31</td>\n",
       "      <td>Francia</td>\n",
       "      <td>46709.0</td>\n",
       "      <td>Maschio</td>\n",
       "    </tr>\n",
       "    <tr>\n",
       "      <th>8</th>\n",
       "      <td>Matteo</td>\n",
       "      <td>37</td>\n",
       "      <td>Spagna</td>\n",
       "      <td>31958.0</td>\n",
       "      <td>Maschio</td>\n",
       "    </tr>\n",
       "    <tr>\n",
       "      <th>9</th>\n",
       "      <td>Laura</td>\n",
       "      <td>50</td>\n",
       "      <td>Italia</td>\n",
       "      <td>25360.0</td>\n",
       "      <td>Femmina</td>\n",
       "    </tr>\n",
       "    <tr>\n",
       "      <th>11</th>\n",
       "      <td>Martina</td>\n",
       "      <td>50</td>\n",
       "      <td>Spagna</td>\n",
       "      <td>37614.0</td>\n",
       "      <td>Maschio</td>\n",
       "    </tr>\n",
       "    <tr>\n",
       "      <th>12</th>\n",
       "      <td>Giorgio</td>\n",
       "      <td>43</td>\n",
       "      <td>Spagna</td>\n",
       "      <td>65730.0</td>\n",
       "      <td>Femmina</td>\n",
       "    </tr>\n",
       "    <tr>\n",
       "      <th>13</th>\n",
       "      <td>Chiara</td>\n",
       "      <td>33</td>\n",
       "      <td>Spagna</td>\n",
       "      <td>68378.0</td>\n",
       "      <td>Maschio</td>\n",
       "    </tr>\n",
       "  </tbody>\n",
       "</table>\n",
       "</div>"
      ],
      "text/plain": [
       "         Nome  Età    Paese  Salario   Genere\n",
       "0        Luca   27  Francia  45618.0  Femmina\n",
       "1      Giulia   30   Grecia  67073.0  Maschio\n",
       "3        Anna   31   Spagna  30206.0  Maschio\n",
       "4   Francesco   55  Francia  32947.0  Femmina\n",
       "6      Davide   58  Francia  21415.0  Maschio\n",
       "7       Elisa   31  Francia  46709.0  Maschio\n",
       "8      Matteo   37   Spagna  31958.0  Maschio\n",
       "9       Laura   50   Italia  25360.0  Femmina\n",
       "11    Martina   50   Spagna  37614.0  Maschio\n",
       "12    Giorgio   43   Spagna  65730.0  Femmina\n",
       "13     Chiara   33   Spagna  68378.0  Maschio"
      ]
     },
     "execution_count": 74,
     "metadata": {},
     "output_type": "execute_result"
    }
   ],
   "source": [
    "# se io volessi filtrare\n",
    "df[df['Età']>25] # ti fa vedere maggiore di 25 "
   ]
  },
  {
   "cell_type": "code",
   "execution_count": 72,
   "id": "6d21650f-e579-412d-9916-be389c432b5c",
   "metadata": {},
   "outputs": [
    {
     "data": {
      "text/html": [
       "<div>\n",
       "<style scoped>\n",
       "    .dataframe tbody tr th:only-of-type {\n",
       "        vertical-align: middle;\n",
       "    }\n",
       "\n",
       "    .dataframe tbody tr th {\n",
       "        vertical-align: top;\n",
       "    }\n",
       "\n",
       "    .dataframe thead th {\n",
       "        text-align: right;\n",
       "    }\n",
       "</style>\n",
       "<table border=\"1\" class=\"dataframe\">\n",
       "  <thead>\n",
       "    <tr style=\"text-align: right;\">\n",
       "      <th></th>\n",
       "      <th>Nome</th>\n",
       "      <th>Età</th>\n",
       "      <th>Paese</th>\n",
       "      <th>Salario</th>\n",
       "      <th>Genere</th>\n",
       "    </tr>\n",
       "  </thead>\n",
       "  <tbody>\n",
       "    <tr>\n",
       "      <th>10</th>\n",
       "      <td>Alessandro</td>\n",
       "      <td>22</td>\n",
       "      <td>Italia</td>\n",
       "      <td>69143.0</td>\n",
       "      <td>Maschio</td>\n",
       "    </tr>\n",
       "    <tr>\n",
       "      <th>14</th>\n",
       "      <td>Simone</td>\n",
       "      <td>22</td>\n",
       "      <td>Germania</td>\n",
       "      <td>29191.0</td>\n",
       "      <td>Femmina</td>\n",
       "    </tr>\n",
       "  </tbody>\n",
       "</table>\n",
       "</div>"
      ],
      "text/plain": [
       "          Nome  Età     Paese  Salario   Genere\n",
       "10  Alessandro   22    Italia  69143.0  Maschio\n",
       "14      Simone   22  Germania  29191.0  Femmina"
      ]
     },
     "execution_count": 72,
     "metadata": {},
     "output_type": "execute_result"
    }
   ],
   "source": [
    "df[df['Età']<25]"
   ]
  },
  {
   "cell_type": "code",
   "execution_count": 73,
   "id": "b28e251d-b3a2-423d-ba4e-6b64792d015d",
   "metadata": {},
   "outputs": [
    {
     "data": {
      "text/html": [
       "<div>\n",
       "<style scoped>\n",
       "    .dataframe tbody tr th:only-of-type {\n",
       "        vertical-align: middle;\n",
       "    }\n",
       "\n",
       "    .dataframe tbody tr th {\n",
       "        vertical-align: top;\n",
       "    }\n",
       "\n",
       "    .dataframe thead th {\n",
       "        text-align: right;\n",
       "    }\n",
       "</style>\n",
       "<table border=\"1\" class=\"dataframe\">\n",
       "  <thead>\n",
       "    <tr style=\"text-align: right;\">\n",
       "      <th></th>\n",
       "      <th>Nome</th>\n",
       "      <th>Età</th>\n",
       "      <th>Paese</th>\n",
       "      <th>Salario</th>\n",
       "      <th>Genere</th>\n",
       "    </tr>\n",
       "  </thead>\n",
       "  <tbody>\n",
       "    <tr>\n",
       "      <th>0</th>\n",
       "      <td>Luca</td>\n",
       "      <td>27</td>\n",
       "      <td>Francia</td>\n",
       "      <td>45618.0</td>\n",
       "      <td>Femmina</td>\n",
       "    </tr>\n",
       "    <tr>\n",
       "      <th>1</th>\n",
       "      <td>Giulia</td>\n",
       "      <td>30</td>\n",
       "      <td>Grecia</td>\n",
       "      <td>67073.0</td>\n",
       "      <td>Maschio</td>\n",
       "    </tr>\n",
       "    <tr>\n",
       "      <th>3</th>\n",
       "      <td>Anna</td>\n",
       "      <td>31</td>\n",
       "      <td>Spagna</td>\n",
       "      <td>30206.0</td>\n",
       "      <td>Maschio</td>\n",
       "    </tr>\n",
       "    <tr>\n",
       "      <th>4</th>\n",
       "      <td>Francesco</td>\n",
       "      <td>55</td>\n",
       "      <td>Francia</td>\n",
       "      <td>32947.0</td>\n",
       "      <td>Femmina</td>\n",
       "    </tr>\n",
       "    <tr>\n",
       "      <th>6</th>\n",
       "      <td>Davide</td>\n",
       "      <td>58</td>\n",
       "      <td>Francia</td>\n",
       "      <td>21415.0</td>\n",
       "      <td>Maschio</td>\n",
       "    </tr>\n",
       "    <tr>\n",
       "      <th>7</th>\n",
       "      <td>Elisa</td>\n",
       "      <td>31</td>\n",
       "      <td>Francia</td>\n",
       "      <td>46709.0</td>\n",
       "      <td>Maschio</td>\n",
       "    </tr>\n",
       "    <tr>\n",
       "      <th>8</th>\n",
       "      <td>Matteo</td>\n",
       "      <td>37</td>\n",
       "      <td>Spagna</td>\n",
       "      <td>31958.0</td>\n",
       "      <td>Maschio</td>\n",
       "    </tr>\n",
       "    <tr>\n",
       "      <th>9</th>\n",
       "      <td>Laura</td>\n",
       "      <td>50</td>\n",
       "      <td>Italia</td>\n",
       "      <td>25360.0</td>\n",
       "      <td>Femmina</td>\n",
       "    </tr>\n",
       "    <tr>\n",
       "      <th>10</th>\n",
       "      <td>Alessandro</td>\n",
       "      <td>22</td>\n",
       "      <td>Italia</td>\n",
       "      <td>69143.0</td>\n",
       "      <td>Maschio</td>\n",
       "    </tr>\n",
       "    <tr>\n",
       "      <th>11</th>\n",
       "      <td>Martina</td>\n",
       "      <td>50</td>\n",
       "      <td>Spagna</td>\n",
       "      <td>37614.0</td>\n",
       "      <td>Maschio</td>\n",
       "    </tr>\n",
       "    <tr>\n",
       "      <th>12</th>\n",
       "      <td>Giorgio</td>\n",
       "      <td>43</td>\n",
       "      <td>Spagna</td>\n",
       "      <td>65730.0</td>\n",
       "      <td>Femmina</td>\n",
       "    </tr>\n",
       "    <tr>\n",
       "      <th>13</th>\n",
       "      <td>Chiara</td>\n",
       "      <td>33</td>\n",
       "      <td>Spagna</td>\n",
       "      <td>68378.0</td>\n",
       "      <td>Maschio</td>\n",
       "    </tr>\n",
       "    <tr>\n",
       "      <th>14</th>\n",
       "      <td>Simone</td>\n",
       "      <td>22</td>\n",
       "      <td>Germania</td>\n",
       "      <td>29191.0</td>\n",
       "      <td>Femmina</td>\n",
       "    </tr>\n",
       "  </tbody>\n",
       "</table>\n",
       "</div>"
      ],
      "text/plain": [
       "          Nome  Età     Paese  Salario   Genere\n",
       "0         Luca   27   Francia  45618.0  Femmina\n",
       "1       Giulia   30    Grecia  67073.0  Maschio\n",
       "3         Anna   31    Spagna  30206.0  Maschio\n",
       "4    Francesco   55   Francia  32947.0  Femmina\n",
       "6       Davide   58   Francia  21415.0  Maschio\n",
       "7        Elisa   31   Francia  46709.0  Maschio\n",
       "8       Matteo   37    Spagna  31958.0  Maschio\n",
       "9        Laura   50    Italia  25360.0  Femmina\n",
       "10  Alessandro   22    Italia  69143.0  Maschio\n",
       "11     Martina   50    Spagna  37614.0  Maschio\n",
       "12     Giorgio   43    Spagna  65730.0  Femmina\n",
       "13      Chiara   33    Spagna  68378.0  Maschio\n",
       "14      Simone   22  Germania  29191.0  Femmina"
      ]
     },
     "execution_count": 73,
     "metadata": {},
     "output_type": "execute_result"
    }
   ],
   "source": [
    "df[df['Età']!=25]"
   ]
  },
  {
   "cell_type": "code",
   "execution_count": 79,
   "id": "02070628-5e2c-4b17-ad6e-6e5f24518e03",
   "metadata": {},
   "outputs": [
    {
     "data": {
      "text/html": [
       "<div>\n",
       "<style scoped>\n",
       "    .dataframe tbody tr th:only-of-type {\n",
       "        vertical-align: middle;\n",
       "    }\n",
       "\n",
       "    .dataframe tbody tr th {\n",
       "        vertical-align: top;\n",
       "    }\n",
       "\n",
       "    .dataframe thead th {\n",
       "        text-align: right;\n",
       "    }\n",
       "</style>\n",
       "<table border=\"1\" class=\"dataframe\">\n",
       "  <thead>\n",
       "    <tr style=\"text-align: right;\">\n",
       "      <th></th>\n",
       "      <th>Nome</th>\n",
       "      <th>Età</th>\n",
       "      <th>Paese</th>\n",
       "      <th>Salario</th>\n",
       "      <th>Genere</th>\n",
       "    </tr>\n",
       "  </thead>\n",
       "  <tbody>\n",
       "    <tr>\n",
       "      <th>0</th>\n",
       "      <td>Luca</td>\n",
       "      <td>27</td>\n",
       "      <td>Francia</td>\n",
       "      <td>45618.0</td>\n",
       "      <td>Femmina</td>\n",
       "    </tr>\n",
       "    <tr>\n",
       "      <th>1</th>\n",
       "      <td>Giulia</td>\n",
       "      <td>30</td>\n",
       "      <td>Grecia</td>\n",
       "      <td>67073.0</td>\n",
       "      <td>Maschio</td>\n",
       "    </tr>\n",
       "    <tr>\n",
       "      <th>3</th>\n",
       "      <td>Anna</td>\n",
       "      <td>31</td>\n",
       "      <td>Spagna</td>\n",
       "      <td>30206.0</td>\n",
       "      <td>Maschio</td>\n",
       "    </tr>\n",
       "    <tr>\n",
       "      <th>4</th>\n",
       "      <td>Francesco</td>\n",
       "      <td>55</td>\n",
       "      <td>Francia</td>\n",
       "      <td>32947.0</td>\n",
       "      <td>Femmina</td>\n",
       "    </tr>\n",
       "    <tr>\n",
       "      <th>7</th>\n",
       "      <td>Elisa</td>\n",
       "      <td>31</td>\n",
       "      <td>Francia</td>\n",
       "      <td>46709.0</td>\n",
       "      <td>Maschio</td>\n",
       "    </tr>\n",
       "    <tr>\n",
       "      <th>8</th>\n",
       "      <td>Matteo</td>\n",
       "      <td>37</td>\n",
       "      <td>Spagna</td>\n",
       "      <td>31958.0</td>\n",
       "      <td>Maschio</td>\n",
       "    </tr>\n",
       "    <tr>\n",
       "      <th>10</th>\n",
       "      <td>Alessandro</td>\n",
       "      <td>22</td>\n",
       "      <td>Italia</td>\n",
       "      <td>69143.0</td>\n",
       "      <td>Maschio</td>\n",
       "    </tr>\n",
       "    <tr>\n",
       "      <th>11</th>\n",
       "      <td>Martina</td>\n",
       "      <td>50</td>\n",
       "      <td>Spagna</td>\n",
       "      <td>37614.0</td>\n",
       "      <td>Maschio</td>\n",
       "    </tr>\n",
       "    <tr>\n",
       "      <th>12</th>\n",
       "      <td>Giorgio</td>\n",
       "      <td>43</td>\n",
       "      <td>Spagna</td>\n",
       "      <td>65730.0</td>\n",
       "      <td>Femmina</td>\n",
       "    </tr>\n",
       "    <tr>\n",
       "      <th>13</th>\n",
       "      <td>Chiara</td>\n",
       "      <td>33</td>\n",
       "      <td>Spagna</td>\n",
       "      <td>68378.0</td>\n",
       "      <td>Maschio</td>\n",
       "    </tr>\n",
       "  </tbody>\n",
       "</table>\n",
       "</div>"
      ],
      "text/plain": [
       "          Nome  Età    Paese  Salario   Genere\n",
       "0         Luca   27  Francia  45618.0  Femmina\n",
       "1       Giulia   30   Grecia  67073.0  Maschio\n",
       "3         Anna   31   Spagna  30206.0  Maschio\n",
       "4    Francesco   55  Francia  32947.0  Femmina\n",
       "7        Elisa   31  Francia  46709.0  Maschio\n",
       "8       Matteo   37   Spagna  31958.0  Maschio\n",
       "10  Alessandro   22   Italia  69143.0  Maschio\n",
       "11     Martina   50   Spagna  37614.0  Maschio\n",
       "12     Giorgio   43   Spagna  65730.0  Femmina\n",
       "13      Chiara   33   Spagna  68378.0  Maschio"
      ]
     },
     "execution_count": 79,
     "metadata": {},
     "output_type": "execute_result"
    }
   ],
   "source": [
    "df[df[\"Salario\"] > 30000]\n"
   ]
  },
  {
   "cell_type": "code",
   "execution_count": 87,
   "id": "da89793a-4b21-4b1f-86d1-277d3f5c3df5",
   "metadata": {},
   "outputs": [
    {
     "data": {
      "text/plain": [
       "(np.float64(37.61538461538461), np.float64(43949.38461538462))"
      ]
     },
     "execution_count": 87,
     "metadata": {},
     "output_type": "execute_result"
    }
   ],
   "source": [
    "# se con due collone fare la medi \n",
    "df['Età'].mean(), df['Salario'].mean() #calcola la media (media aritmetica) di due colonne: Età e Salario."
   ]
  },
  {
   "cell_type": "markdown",
   "id": "ee13c9c4-7a65-492d-8c10-4816281d5581",
   "metadata": {},
   "source": [
    "# se voglio aggoingere nuova colonna "
   ]
  },
  {
   "cell_type": "code",
   "execution_count": 94,
   "id": "845fc362-ef1f-40af-9dd2-7b0c239207d8",
   "metadata": {},
   "outputs": [
    {
     "name": "stdout",
     "output_type": "stream",
     "text": [
      "          Nome  Età     Paese  Salario   Genere   Professione\n",
      "0         Luca   27   Francia  45618.0  Femmina     Ingegnere\n",
      "1       Giulia   30    Grecia  67073.0  Maschio      Avvocato\n",
      "3         Anna   31    Spagna  30206.0  Maschio        Medico\n",
      "4    Francesco   55   Francia  32947.0  Femmina    Architetto\n",
      "6       Davide   58   Francia  21415.0  Maschio    Insegnante\n",
      "7        Elisa   31   Francia  46709.0  Maschio  Data Analyst\n",
      "8       Matteo   37    Spagna  31958.0  Maschio     Contabile\n",
      "9        Laura   50    Italia  25360.0  Femmina    Infermiere\n",
      "10  Alessandro   22    Italia  69143.0  Maschio  Sviluppatore\n",
      "11     Martina   50    Spagna  37614.0  Maschio    Farmacista\n",
      "12     Giorgio   43    Spagna  65730.0  Femmina     Psicologo\n",
      "13      Chiara   33    Spagna  68378.0  Maschio       Biologo\n",
      "14      Simone   22  Germania  29191.0  Femmina      Designer\n"
     ]
    }
   ],
   "source": [
    "professioni = [\n",
    "    \"Ingegnere\", \"Avvocato\", \"Medico\", \"Architetto\",\n",
    "    \"Insegnante\", \"Data Analyst\", \"Contabile\", \"Infermiere\",\n",
    "    \"Sviluppatore\", \"Farmacista\", \"Psicologo\", \"Biologo\",\n",
    "    \"Designer\", \"Giornalista\", \"Manager\", \"Insegnante\"\n",
    "]\n",
    "# Adatta la lista alla lunghezza reale del DataFrame\n",
    "df['Professione'] = professioni[:len(df)]\n",
    "print(df)\n"
   ]
  },
  {
   "cell_type": "markdown",
   "id": "cd963937-0c7d-4466-9ffc-fb1a0e472613",
   "metadata": {},
   "source": [
    "Vogliamo rendere i nostri dati più realistici? Aggiungiamo una colonna di professioni!\n",
    "Basta creare una lista e usare [:len(df)] per adattarla alla lunghezza del DataFrame.\n",
    "Così Python non si arrabbia, e noi possiamo giocare con i dati come se fossero persone reali"
   ]
  },
  {
   "cell_type": "code",
   "execution_count": 96,
   "id": "2c96d1c0-60d7-4c40-9d95-2b623c147564",
   "metadata": {},
   "outputs": [
    {
     "name": "stdout",
     "output_type": "stream",
     "text": [
      "          Nome  Età     Paese  Salario   Genere   Professione Stipendio_alto\n",
      "0         Luca   27   Francia  45618.0  Femmina     Ingegnere             No\n",
      "1       Giulia   30    Grecia  67073.0  Maschio      Avvocato             Sì\n",
      "3         Anna   31    Spagna  30206.0  Maschio        Medico             No\n",
      "4    Francesco   55   Francia  32947.0  Femmina    Architetto             No\n",
      "6       Davide   58   Francia  21415.0  Maschio    Insegnante             No\n",
      "7        Elisa   31   Francia  46709.0  Maschio  Data Analyst             No\n",
      "8       Matteo   37    Spagna  31958.0  Maschio     Contabile             No\n",
      "9        Laura   50    Italia  25360.0  Femmina    Infermiere             No\n",
      "10  Alessandro   22    Italia  69143.0  Maschio  Sviluppatore             Sì\n",
      "11     Martina   50    Spagna  37614.0  Maschio    Farmacista             No\n",
      "12     Giorgio   43    Spagna  65730.0  Femmina     Psicologo             Sì\n",
      "13      Chiara   33    Spagna  68378.0  Maschio       Biologo             Sì\n",
      "14      Simone   22  Germania  29191.0  Femmina      Designer             No\n"
     ]
    }
   ],
   "source": [
    "df['Stipendio_alto'] = df['Salario'].apply(lambda x: 'Sì' if x > 50000 else 'No')\n",
    "print(df)\n"
   ]
  },
  {
   "cell_type": "markdown",
   "id": "b66b39b7-d925-4958-94aa-f5bc3587fd2f",
   "metadata": {},
   "source": [
    "🔍 Cosa fa riga per riga:\n",
    "\n",
    "df['Salario'] → seleziona la colonna Salario.\n",
    "\n",
    ".apply(lambda x: ...) → applica una funzione a ogni valore della colonna.\n",
    "\n",
    "lambda x: 'Sì' if x > 50000 else 'No' → per ogni valore x, controlla:\n",
    "\n",
    "Se x è maggiore di 50.000 → scrive \"Sì\"\n",
    "\n",
    "Altrimenti → scrive \"No\"\n",
    "\n",
    "Il risultato viene salvato in una nuova colonna: Stipendio_alto"
   ]
  },
  {
   "cell_type": "code",
   "execution_count": 97,
   "id": "cbb03d4c-a05c-4e26-9988-8b6c63cb5a87",
   "metadata": {},
   "outputs": [
    {
     "name": "stdout",
     "output_type": "stream",
     "text": [
      "          Nome  Età     Paese  Salario   Genere   Professione Stipendio_alto\n",
      "0         Luca   27   Francia  45618.0  Femmina     Ingegnere             No\n",
      "1       Giulia   30    Grecia  67073.0  Maschio      Avvocato             Sì\n",
      "3         Anna   31    Spagna  30206.0  Maschio        Medico             No\n",
      "4    Francesco   55   Francia  32947.0  Femmina    Architetto             No\n",
      "6       Davide   58   Francia  21415.0  Maschio    Insegnante             No\n",
      "7        Elisa   31   Francia  46709.0  Maschio  Data Analyst             No\n",
      "8       Matteo   37    Spagna  31958.0  Maschio     Contabile             No\n",
      "9        Laura   50    Italia  25360.0  Femmina    Infermiere             No\n",
      "10  Alessandro   22    Italia  69143.0  Maschio  Sviluppatore             Sì\n",
      "11     Martina   50    Spagna  37614.0  Maschio    Farmacista             No\n",
      "12     Giorgio   43    Spagna  65730.0  Femmina     Psicologo             Sì\n",
      "13      Chiara   33    Spagna  68378.0  Maschio       Biologo             Sì\n",
      "14      Simone   22  Germania  29191.0  Femmina      Designer             No\n"
     ]
    }
   ],
   "source": [
    "#✅ 2. Con funzione separata (più leggibile per chi inizia):\n",
    "def etichetta_stipendio(x):\n",
    "    if x > 50000:\n",
    "        return 'Sì'\n",
    "    else:\n",
    "        return 'No'\n",
    "\n",
    "df['Stipendio_alto'] = df['Salario'].apply(etichetta_stipendio)\n",
    "print(df)"
   ]
  },
  {
   "cell_type": "markdown",
   "id": "039b5eb1-3da2-4019-a9fd-c243916217b4",
   "metadata": {},
   "source": [
    "## Cosa fa?\n",
    "\n",
    "Definisci una funzione chiamata etichetta_stipendio che:\n",
    "\n",
    "Riceve un valore x (lo stipendio).\n",
    "\n",
    "Se x è maggiore di 50.000, restituisce \"Sì\".\n",
    "\n",
    "Altrimenti restituisce \"No\".\n",
    "\n",
    "Applichi questa funzione a tutti i valori della colonna Salario usando .apply().\n",
    "\n",
    "Salvi il risultato in una nuova colonna Stipendio_alto."
   ]
  },
  {
   "cell_type": "code",
   "execution_count": 99,
   "id": "0c2d7e7a-f3be-4ed7-aaa3-77f680c61faa",
   "metadata": {},
   "outputs": [
    {
     "name": "stdout",
     "output_type": "stream",
     "text": [
      "          Nome  Età     Paese  Salario   Genere   Professione Stipendio_alto\n",
      "0         Luca   27   Francia  45618.0  Femmina     Ingegnere             Sì\n",
      "1       Giulia   30    Grecia  67073.0  Maschio      Avvocato             Sì\n",
      "3         Anna   31    Spagna  30206.0  Maschio        Medico             Sì\n",
      "4    Francesco   55   Francia  32947.0  Femmina    Architetto             Sì\n",
      "6       Davide   58   Francia  21415.0  Maschio    Insegnante             No\n",
      "7        Elisa   31   Francia  46709.0  Maschio  Data Analyst             Sì\n",
      "8       Matteo   37    Spagna  31958.0  Maschio     Contabile             Sì\n",
      "9        Laura   50    Italia  25360.0  Femmina    Infermiere             No\n",
      "10  Alessandro   22    Italia  69143.0  Maschio  Sviluppatore             Sì\n",
      "11     Martina   50    Spagna  37614.0  Maschio    Farmacista             Sì\n",
      "12     Giorgio   43    Spagna  65730.0  Femmina     Psicologo             Sì\n",
      "13      Chiara   33    Spagna  68378.0  Maschio       Biologo             Sì\n",
      "14      Simone   22  Germania  29191.0  Femmina      Designer             No\n"
     ]
    }
   ],
   "source": [
    "#✅ 1. Con np.where (più chiaro e veloce):\n",
    "import numpy as np\n",
    "\n",
    "df['Stipendio_alto'] = np.where(df['Salario'] > 50000, 'Sì', 'No')\n",
    "print(df)\n"
   ]
  },
  {
   "cell_type": "code",
   "execution_count": 101,
   "id": "683c9ad1-95ac-4f46-9e09-9a2b9c23d3fb",
   "metadata": {},
   "outputs": [
    {
     "name": "stdout",
     "output_type": "stream",
     "text": [
      "          Nome  Età     Paese  Salario   Genere   Professione Stipendio_alto  \\\n",
      "0         Luca   27   Francia  45618.0  Femmina     Ingegnere             Sì   \n",
      "1       Giulia   30    Grecia  67073.0  Maschio      Avvocato             Sì   \n",
      "3         Anna   31    Spagna  30206.0  Maschio        Medico             Sì   \n",
      "4    Francesco   55   Francia  32947.0  Femmina    Architetto             Sì   \n",
      "6       Davide   58   Francia  21415.0  Maschio    Insegnante             No   \n",
      "7        Elisa   31   Francia  46709.0  Maschio  Data Analyst             Sì   \n",
      "8       Matteo   37    Spagna  31958.0  Maschio     Contabile             Sì   \n",
      "9        Laura   50    Italia  25360.0  Femmina    Infermiere             No   \n",
      "10  Alessandro   22    Italia  69143.0  Maschio  Sviluppatore             Sì   \n",
      "11     Martina   50    Spagna  37614.0  Maschio    Farmacista             Sì   \n",
      "12     Giorgio   43    Spagna  65730.0  Femmina     Psicologo             Sì   \n",
      "13      Chiara   33    Spagna  68378.0  Maschio       Biologo             Sì   \n",
      "14      Simone   22  Germania  29191.0  Femmina      Designer             No   \n",
      "\n",
      "   NuovaColonna  \n",
      "0            OK  \n",
      "1            OK  \n",
      "3            OK  \n",
      "4            OK  \n",
      "6            OK  \n",
      "7            OK  \n",
      "8            OK  \n",
      "9            OK  \n",
      "10           OK  \n",
      "11           OK  \n",
      "12           OK  \n",
      "13           OK  \n",
      "14           OK  \n"
     ]
    }
   ],
   "source": [
    "#✅ 1. Aggiungere una colonna con valori fissi\n",
    "df['NuovaColonna'] = 'OK'\n",
    "print(df)"
   ]
  },
  {
   "cell_type": "code",
   "execution_count": 102,
   "id": "795e1877-bc98-4d8d-9777-62c10df0d173",
   "metadata": {},
   "outputs": [
    {
     "name": "stdout",
     "output_type": "stream",
     "text": [
      "          Nome  Età     Paese  Salario   Genere   Professione Stipendio_alto  \\\n",
      "0         Luca   27   Francia  45618.0  Femmina     Ingegnere             Sì   \n",
      "1       Giulia   30    Grecia  67073.0  Maschio      Avvocato             Sì   \n",
      "3         Anna   31    Spagna  30206.0  Maschio        Medico             Sì   \n",
      "4    Francesco   55   Francia  32947.0  Femmina    Architetto             Sì   \n",
      "6       Davide   58   Francia  21415.0  Maschio    Insegnante             No   \n",
      "7        Elisa   31   Francia  46709.0  Maschio  Data Analyst             Sì   \n",
      "8       Matteo   37    Spagna  31958.0  Maschio     Contabile             Sì   \n",
      "9        Laura   50    Italia  25360.0  Femmina    Infermiere             No   \n",
      "10  Alessandro   22    Italia  69143.0  Maschio  Sviluppatore             Sì   \n",
      "11     Martina   50    Spagna  37614.0  Maschio    Farmacista             Sì   \n",
      "12     Giorgio   43    Spagna  65730.0  Femmina     Psicologo             Sì   \n",
      "13      Chiara   33    Spagna  68378.0  Maschio       Biologo             Sì   \n",
      "14      Simone   22  Germania  29191.0  Femmina      Designer             No   \n",
      "\n",
      "   NuovaColonna  Salario_Aumentato  \n",
      "0            OK            50179.8  \n",
      "1            OK            73780.3  \n",
      "3            OK            33226.6  \n",
      "4            OK            36241.7  \n",
      "6            OK            23556.5  \n",
      "7            OK            51379.9  \n",
      "8            OK            35153.8  \n",
      "9            OK            27896.0  \n",
      "10           OK            76057.3  \n",
      "11           OK            41375.4  \n",
      "12           OK            72303.0  \n",
      "13           OK            75215.8  \n",
      "14           OK            32110.1  \n"
     ]
    }
   ],
   "source": [
    "#✅ 3. Aggiungere una colonna calcolata\n",
    "df['Salario_Aumentato'] = df['Salario'] * 1.10\n",
    "print(df)"
   ]
  },
  {
   "cell_type": "code",
   "execution_count": null,
   "id": "25101a95-15c0-4844-acad-66146d6a8c73",
   "metadata": {},
   "outputs": [],
   "source": []
  },
  {
   "cell_type": "markdown",
   "id": "6dc87bfe-e4c9-4494-ba50-92e404933a40",
   "metadata": {},
   "source": [
    "Vuoi aggiungere una colonna nuova con un valore fisso per tutti?\n",
    "Basta scrivere df['NuovaColonna'] = 'OK' e il gioco è fatto! 🎉"
   ]
  },
  {
   "cell_type": "code",
   "execution_count": null,
   "id": "eb5aeaec-9125-4ebb-92eb-141ac6a1366d",
   "metadata": {},
   "outputs": [],
   "source": [
    "#bonus corregere \n",
    "df.loc[df['Nome'] == 'Luca', 'Genere'] = 'Maschio'\n",
    "df.loc[df['Nome'] == 'Giulia', 'Genere'] = 'Femmina'\n",
    "df.loc[df['Nome'] == 'Anna', 'Genere'] = 'Femmina'\n",
    "# ...e così via\n"
   ]
  },
  {
   "cell_type": "markdown",
   "id": "a7ecac5f-b89a-428b-96af-cdece72ca36e",
   "metadata": {},
   "source": [
    "🔍 loc vs iloc in Pandas (facile e veloce)"
   ]
  },
  {
   "cell_type": "code",
   "execution_count": 129,
   "id": "ca31b9c0-998c-4c7f-9628-c8cf7939fc74",
   "metadata": {},
   "outputs": [
    {
     "data": {
      "text/plain": [
       "'Luca'"
      ]
     },
     "execution_count": 129,
     "metadata": {},
     "output_type": "execute_result"
    }
   ],
   "source": [
    "#✅ loc → usa etichette (nomi delle colonne e delle righe)\n",
    "df.loc[0, 'Nome']\n",
    "#🎯 Legge il valore alla riga 0, colonna 'Nome'.\n"
   ]
  },
  {
   "cell_type": "code",
   "execution_count": 131,
   "id": "f8e32e89-fd47-46a1-998c-bff6321f92e2",
   "metadata": {},
   "outputs": [],
   "source": [
    "df.loc[df['Nome'] == 'Luca', 'Genere'] = 'Maschio'\n",
    "#✍️ Modifica la colonna 'Genere' mettendo 'Maschio' dove il nome è 'Luca'."
   ]
  },
  {
   "cell_type": "code",
   "execution_count": 132,
   "id": "3bd59c1c-3c0b-4e49-92c5-787f1d1bb802",
   "metadata": {},
   "outputs": [
    {
     "data": {
      "text/plain": [
       "'Luca'"
      ]
     },
     "execution_count": 132,
     "metadata": {},
     "output_type": "execute_result"
    }
   ],
   "source": [
    "#✅ iloc → usa indici numerici (posizione delle righe e colonne)\n",
    "df.iloc[0, 0]\n",
    "#🎯 Legge il valore alla prima riga, prima colonna."
   ]
  },
  {
   "cell_type": "code",
   "execution_count": 134,
   "id": "766ecf48-c959-42cd-8f3c-80311f2a87dc",
   "metadata": {},
   "outputs": [],
   "source": [
    "df.iloc[3, 2] = 'Spagna'\n",
    "#✍️ Modifica il valore nella quarta riga, terza colonna, mettendo 'Spagna'."
   ]
  },
  {
   "cell_type": "markdown",
   "id": "c39cd858-6b14-4a8f-a7fb-c45e669b654e",
   "metadata": {},
   "source": [
    "| Metodo | Usa...     | Quando usarlo...                             |\n",
    "| ------ | ---------- | -------------------------------------------- |\n",
    "| `loc`  | **Nomi**   | Se conosci i nomi delle colonne (es. 'Nome') |\n",
    "| `iloc` | **Numeri** | Se lavori con posizioni (0, 1, 2...)         |\n"
   ]
  },
  {
   "cell_type": "markdown",
   "id": "df049a7f-065b-4aa8-b9b1-d874373ad859",
   "metadata": {},
   "source": [
    "loc → L come \"Label\" (etichette)\n",
    "\n",
    "iloc → I come \"Index\" (numeri)"
   ]
  },
  {
   "cell_type": "code",
   "execution_count": 104,
   "id": "2fccdf0a-a147-4c73-9080-2197c3fd00ef",
   "metadata": {},
   "outputs": [
    {
     "name": "stdout",
     "output_type": "stream",
     "text": [
      "          Nome  Età     Paese  Salario   Genere   Professione Stipendio_alto  \\\n",
      "0         Luca   27   Francia  45618.0  Maschio     Ingegnere             Sì   \n",
      "1       Giulia   30    Grecia  67073.0  Femmina      Avvocato             Sì   \n",
      "3         Anna   31    Spagna  30206.0  Femmina        Medico             Sì   \n",
      "4    Francesco   55   Francia  32947.0  Maschio    Architetto             Sì   \n",
      "6       Davide   58   Francia  21415.0  Maschio    Insegnante             No   \n",
      "7        Elisa   31   Francia  46709.0  Femmina  Data Analyst             Sì   \n",
      "8       Matteo   37    Spagna  31958.0  Maschio     Contabile             Sì   \n",
      "9        Laura   50    Italia  25360.0  Femmina    Infermiere             No   \n",
      "10  Alessandro   22    Italia  69143.0  Maschio  Sviluppatore             Sì   \n",
      "11     Martina   50    Spagna  37614.0  Femmina    Farmacista             Sì   \n",
      "12     Giorgio   43    Spagna  65730.0  Maschio     Psicologo             Sì   \n",
      "13      Chiara   33    Spagna  68378.0  Femmina       Biologo             Sì   \n",
      "14      Simone   22  Germania  29191.0  Maschio      Designer             No   \n",
      "\n",
      "   NuovaColonna  Salario_Aumentato  \n",
      "0            OK            50179.8  \n",
      "1            OK            73780.3  \n",
      "3            OK            33226.6  \n",
      "4            OK            36241.7  \n",
      "6            OK            23556.5  \n",
      "7            OK            51379.9  \n",
      "8            OK            35153.8  \n",
      "9            OK            27896.0  \n",
      "10           OK            76057.3  \n",
      "11           OK            41375.4  \n",
      "12           OK            72303.0  \n",
      "13           OK            75215.8  \n",
      "14           OK            32110.1  \n"
     ]
    }
   ],
   "source": [
    "correzioni_genere = {\n",
    "    'Luca': 'Maschio',\n",
    "    'Giulia': 'Femmina',\n",
    "    'Anna': 'Femmina',\n",
    "    'Marco': 'Maschio',\n",
    "    'Sara': 'Femmina',\n",
    "    'Francesco': 'Maschio',\n",
    "    'Elisa': 'Femmina',\n",
    "    'Laura': 'Femmina',\n",
    "    'Alessandro': 'Maschio',\n",
    "    'Martina': 'Femmina',\n",
    "    'Giorgio': 'Maschio',\n",
    "    'Chiara': 'Femmina',\n",
    "    'Simone': 'Maschio',\n",
    "    'Davide': 'Maschio',\n",
    "    'Matteo': 'Maschio'\n",
    "}\n",
    "\n",
    "df['Genere'] = df['Nome'].map(correzioni_genere)\n",
    "print(df)"
   ]
  },
  {
   "cell_type": "code",
   "execution_count": 110,
   "id": "1cc8dc65-1440-4eef-9c92-f8a0d62b873b",
   "metadata": {},
   "outputs": [
    {
     "name": "stdout",
     "output_type": "stream",
     "text": [
      "          Nome  Età     Paese  Salario   Genere   Professione Stipendio_alto  \\\n",
      "0         Luca   27   Francia  45618.0  Maschio     Ingegnere             Sì   \n",
      "1       Giulia   30    Grecia  67073.0  Femmina      Avvocato             Sì   \n",
      "3         Anna   31    Spagna  30206.0  Femmina        Medico             Sì   \n",
      "4    Francesco   55   Francia  32947.0  Maschio    Architetto             Sì   \n",
      "6       Davide   58   Francia  21415.0  Maschio    Insegnante             No   \n",
      "7        Elisa   31   Francia  46709.0  Femmina  Data Analyst             Sì   \n",
      "8       Matteo   37    Spagna  31958.0  Maschio     Contabile             Sì   \n",
      "9        Laura   50    Italia  25360.0  Femmina    Infermiere             No   \n",
      "10  Alessandro   22    Italia  69143.0  Maschio  Sviluppatore             Sì   \n",
      "11     Martina   50    Spagna  37614.0  Femmina    Farmacista             Sì   \n",
      "12     Giorgio   43    Spagna  65730.0  Maschio     Psicologo             Sì   \n",
      "13      Chiara   33    Spagna  68378.0  Femmina       Biologo             Sì   \n",
      "14      Simone   22  Germania  29191.0  Maschio      Designer             No   \n",
      "\n",
      "    Salario_Aumentato  \n",
      "0             50179.8  \n",
      "1             73780.3  \n",
      "3             33226.6  \n",
      "4             36241.7  \n",
      "6             23556.5  \n",
      "7             51379.9  \n",
      "8             35153.8  \n",
      "9             27896.0  \n",
      "10            76057.3  \n",
      "11            41375.4  \n",
      "12            72303.0  \n",
      "13            75215.8  \n",
      "14            32110.1  \n"
     ]
    }
   ],
   "source": [
    "# voglio cancellare collona \n",
    "df = df.drop('NuovaColonna', axis=1) # cancello la conolla axis=1 colonna axis=0 righa \n",
    "print(df)"
   ]
  },
  {
   "cell_type": "markdown",
   "id": "dab65177-91b1-4a83-89de-36b905bd782b",
   "metadata": {},
   "source": [
    "| Con `inplace=True`              | Senza `inplace`                     |\n",
    "| ------------------------------- | ----------------------------------- |\n",
    "| Modifica il DataFrame originale | Non modifica il DataFrame originale |\n",
    "| Non serve riassegnare `df`      | Devi fare `df = df.drop(...)`       |\n"
   ]
  },
  {
   "cell_type": "code",
   "execution_count": null,
   "id": "71c0204b-757d-4042-9fa0-247cb42a7d25",
   "metadata": {},
   "outputs": [],
   "source": [
    "# 🧼 Pulizia intelligente: correggere i generi con un dizionario\n",
    "df.loc[df['Nome'] == 'Luca', 'Genere'] = 'Maschio'\n",
    "#...puoi usare un dizionario e il metodo .map(). Così 👇"
   ]
  },
  {
   "cell_type": "code",
   "execution_count": null,
   "id": "f1ff5443-7fec-4d13-a1b6-301c186e7d32",
   "metadata": {},
   "outputs": [],
   "source": [
    "correzioni_genere = {\n",
    "    'Luca': 'Maschio',\n",
    "    'Giulia': 'Femmina',\n",
    "    'Anna': 'Femmina',\n",
    "    'Marco': 'Maschio',\n",
    "    'Sara': 'Femmina',\n",
    "    'Francesco': 'Maschio',\n",
    "    'Elisa': 'Femmina',\n",
    "    'Laura': 'Femmina',\n",
    "    'Alessandro': 'Maschio',\n",
    "    'Martina': 'Femmina',\n",
    "    'Giorgio': 'Maschio',\n",
    "    'Chiara': 'Femmina',\n",
    "    'Simone': 'Maschio',\n",
    "    'Davide': 'Maschio',\n",
    "    'Matteo': 'Maschio'\n",
    "}\n",
    "df['Genere'] = df['Nome'].map(correzioni_genere)"
   ]
  }
 ],
 "metadata": {
  "kernelspec": {
   "display_name": "Python 3 (ipykernel)",
   "language": "python",
   "name": "python3"
  },
  "language_info": {
   "codemirror_mode": {
    "name": "ipython",
    "version": 3
   },
   "file_extension": ".py",
   "mimetype": "text/x-python",
   "name": "python",
   "nbconvert_exporter": "python",
   "pygments_lexer": "ipython3",
   "version": "3.13.2"
  }
 },
 "nbformat": 4,
 "nbformat_minor": 5
}
